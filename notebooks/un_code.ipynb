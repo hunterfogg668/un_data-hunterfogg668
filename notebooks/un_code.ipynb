{
 "cells": [
  {
   "cell_type": "code",
   "execution_count": 1,
   "id": "fc67834b",
   "metadata": {},
   "outputs": [],
   "source": [
    "import pandas as pd\n",
    "import matplotlib.pyplot as plt\n",
    "import seaborn as sns\n",
    "%matplotlib inline"
   ]
  },
  {
   "cell_type": "markdown",
   "id": "4b317778",
   "metadata": {},
   "source": [
    "# 4. Using the pandas `read_csv()` method, read the GDP dataset into your notebook as a DataFrame called `gdp_df`. Take a look at the first few and last few rows to familiarize yourself with what is contained in this dataset."
   ]
  },
  {
   "cell_type": "code",
   "execution_count": 2,
   "id": "85be10b6",
   "metadata": {},
   "outputs": [],
   "source": [
    "gdp_df = pd.read_csv(\n",
    "    r\"C:\\Users\\hunte\\Documents\\NNS-DDA10\\python\\projects\\un_data-hunterfogg668\\data\\gdp_percapita.csv.csv\")"
   ]
  },
  {
   "cell_type": "code",
   "execution_count": 3,
   "id": "342c0333",
   "metadata": {},
   "outputs": [
    {
     "data": {
      "text/html": [
       "<div>\n",
       "<style scoped>\n",
       "    .dataframe tbody tr th:only-of-type {\n",
       "        vertical-align: middle;\n",
       "    }\n",
       "\n",
       "    .dataframe tbody tr th {\n",
       "        vertical-align: top;\n",
       "    }\n",
       "\n",
       "    .dataframe thead th {\n",
       "        text-align: right;\n",
       "    }\n",
       "</style>\n",
       "<table border=\"1\" class=\"dataframe\">\n",
       "  <thead>\n",
       "    <tr style=\"text-align: right;\">\n",
       "      <th></th>\n",
       "      <th>Country or Area</th>\n",
       "      <th>Year</th>\n",
       "      <th>Value</th>\n",
       "      <th>Value Footnotes</th>\n",
       "    </tr>\n",
       "  </thead>\n",
       "  <tbody>\n",
       "    <tr>\n",
       "      <th>0</th>\n",
       "      <td>Afghanistan</td>\n",
       "      <td>2020</td>\n",
       "      <td>1970.560169</td>\n",
       "      <td>NaN</td>\n",
       "    </tr>\n",
       "    <tr>\n",
       "      <th>1</th>\n",
       "      <td>Afghanistan</td>\n",
       "      <td>2019</td>\n",
       "      <td>2065.036235</td>\n",
       "      <td>NaN</td>\n",
       "    </tr>\n",
       "    <tr>\n",
       "      <th>2</th>\n",
       "      <td>Afghanistan</td>\n",
       "      <td>2018</td>\n",
       "      <td>2033.804389</td>\n",
       "      <td>NaN</td>\n",
       "    </tr>\n",
       "    <tr>\n",
       "      <th>3</th>\n",
       "      <td>Afghanistan</td>\n",
       "      <td>2017</td>\n",
       "      <td>2058.400221</td>\n",
       "      <td>NaN</td>\n",
       "    </tr>\n",
       "    <tr>\n",
       "      <th>4</th>\n",
       "      <td>Afghanistan</td>\n",
       "      <td>2016</td>\n",
       "      <td>2057.067978</td>\n",
       "      <td>NaN</td>\n",
       "    </tr>\n",
       "  </tbody>\n",
       "</table>\n",
       "</div>"
      ],
      "text/plain": [
       "  Country or Area  Year        Value  Value Footnotes\n",
       "0     Afghanistan  2020  1970.560169              NaN\n",
       "1     Afghanistan  2019  2065.036235              NaN\n",
       "2     Afghanistan  2018  2033.804389              NaN\n",
       "3     Afghanistan  2017  2058.400221              NaN\n",
       "4     Afghanistan  2016  2057.067978              NaN"
      ]
     },
     "execution_count": 3,
     "metadata": {},
     "output_type": "execute_result"
    }
   ],
   "source": [
    "gdp_df.head()"
   ]
  },
  {
   "cell_type": "markdown",
   "id": "798f1b58",
   "metadata": {},
   "source": [
    "# 5. How many rows and columns are in `gdp_df`? What are the data types of each column? 7176 rows, 4 columns; float64, float64, int64, object"
   ]
  },
  {
   "cell_type": "code",
   "execution_count": 4,
   "id": "bc55a174",
   "metadata": {},
   "outputs": [
    {
     "data": {
      "text/plain": [
       "(7176, 4)"
      ]
     },
     "execution_count": 4,
     "metadata": {},
     "output_type": "execute_result"
    }
   ],
   "source": [
    "gdp_df.shape"
   ]
  },
  {
   "cell_type": "code",
   "execution_count": 5,
   "id": "e0f8b2a5",
   "metadata": {},
   "outputs": [
    {
     "data": {
      "text/plain": [
       "Country or Area     object\n",
       "Year                 int64\n",
       "Value              float64\n",
       "Value Footnotes    float64\n",
       "dtype: object"
      ]
     },
     "execution_count": 5,
     "metadata": {},
     "output_type": "execute_result"
    }
   ],
   "source": [
    "gdp_df.dtypes\n"
   ]
  },
  {
   "cell_type": "markdown",
   "id": "9e99abe7",
   "metadata": {},
   "source": [
    "# 6. Drop the `Value Footnotes` column and rename the remaining three to 'Country', 'Year', and 'GDP_Per_Capita'. "
   ]
  },
  {
   "cell_type": "code",
   "execution_count": 6,
   "id": "eec42ed6",
   "metadata": {},
   "outputs": [
    {
     "data": {
      "text/html": [
       "<div>\n",
       "<style scoped>\n",
       "    .dataframe tbody tr th:only-of-type {\n",
       "        vertical-align: middle;\n",
       "    }\n",
       "\n",
       "    .dataframe tbody tr th {\n",
       "        vertical-align: top;\n",
       "    }\n",
       "\n",
       "    .dataframe thead th {\n",
       "        text-align: right;\n",
       "    }\n",
       "</style>\n",
       "<table border=\"1\" class=\"dataframe\">\n",
       "  <thead>\n",
       "    <tr style=\"text-align: right;\">\n",
       "      <th></th>\n",
       "      <th>Country</th>\n",
       "      <th>Year</th>\n",
       "      <th>GDP_Per_Capita</th>\n",
       "    </tr>\n",
       "  </thead>\n",
       "  <tbody>\n",
       "    <tr>\n",
       "      <th>0</th>\n",
       "      <td>Afghanistan</td>\n",
       "      <td>2020</td>\n",
       "      <td>1970.560169</td>\n",
       "    </tr>\n",
       "    <tr>\n",
       "      <th>1</th>\n",
       "      <td>Afghanistan</td>\n",
       "      <td>2019</td>\n",
       "      <td>2065.036235</td>\n",
       "    </tr>\n",
       "    <tr>\n",
       "      <th>2</th>\n",
       "      <td>Afghanistan</td>\n",
       "      <td>2018</td>\n",
       "      <td>2033.804389</td>\n",
       "    </tr>\n",
       "    <tr>\n",
       "      <th>3</th>\n",
       "      <td>Afghanistan</td>\n",
       "      <td>2017</td>\n",
       "      <td>2058.400221</td>\n",
       "    </tr>\n",
       "    <tr>\n",
       "      <th>4</th>\n",
       "      <td>Afghanistan</td>\n",
       "      <td>2016</td>\n",
       "      <td>2057.067978</td>\n",
       "    </tr>\n",
       "    <tr>\n",
       "      <th>...</th>\n",
       "      <td>...</td>\n",
       "      <td>...</td>\n",
       "      <td>...</td>\n",
       "    </tr>\n",
       "    <tr>\n",
       "      <th>7171</th>\n",
       "      <td>Zimbabwe</td>\n",
       "      <td>1994</td>\n",
       "      <td>2603.927369</td>\n",
       "    </tr>\n",
       "    <tr>\n",
       "      <th>7172</th>\n",
       "      <td>Zimbabwe</td>\n",
       "      <td>1993</td>\n",
       "      <td>2420.092791</td>\n",
       "    </tr>\n",
       "    <tr>\n",
       "      <th>7173</th>\n",
       "      <td>Zimbabwe</td>\n",
       "      <td>1992</td>\n",
       "      <td>2437.152908</td>\n",
       "    </tr>\n",
       "    <tr>\n",
       "      <th>7174</th>\n",
       "      <td>Zimbabwe</td>\n",
       "      <td>1991</td>\n",
       "      <td>2733.696626</td>\n",
       "    </tr>\n",
       "    <tr>\n",
       "      <th>7175</th>\n",
       "      <td>Zimbabwe</td>\n",
       "      <td>1990</td>\n",
       "      <td>2652.129209</td>\n",
       "    </tr>\n",
       "  </tbody>\n",
       "</table>\n",
       "<p>7176 rows × 3 columns</p>\n",
       "</div>"
      ],
      "text/plain": [
       "          Country  Year  GDP_Per_Capita\n",
       "0     Afghanistan  2020     1970.560169\n",
       "1     Afghanistan  2019     2065.036235\n",
       "2     Afghanistan  2018     2033.804389\n",
       "3     Afghanistan  2017     2058.400221\n",
       "4     Afghanistan  2016     2057.067978\n",
       "...           ...   ...             ...\n",
       "7171     Zimbabwe  1994     2603.927369\n",
       "7172     Zimbabwe  1993     2420.092791\n",
       "7173     Zimbabwe  1992     2437.152908\n",
       "7174     Zimbabwe  1991     2733.696626\n",
       "7175     Zimbabwe  1990     2652.129209\n",
       "\n",
       "[7176 rows x 3 columns]"
      ]
     },
     "execution_count": 6,
     "metadata": {},
     "output_type": "execute_result"
    }
   ],
   "source": [
    "gdp_df_2 = gdp_df.drop(columns = ['Value Footnotes'])\n",
    "gdp_df_2 = gdp_df_2.rename(columns = {'Country or Area' : 'Country', 'Year' : 'Year', 'Value' : 'GDP_Per_Capita'})\n",
    "gdp_df_2"
   ]
  },
  {
   "cell_type": "markdown",
   "id": "e899f20c",
   "metadata": {},
   "source": [
    "# 7. How many countries have data for all years? Which countries are missing many years of data? Look at the number of observations per year. What do you notice?  as year decreases, number of observations also decrease"
   ]
  },
  {
   "cell_type": "markdown",
   "id": "547c7f9c",
   "metadata": {},
   "source": [
    "#find data with 31 observations"
   ]
  },
  {
   "cell_type": "code",
   "execution_count": 7,
   "id": "93d818ee",
   "metadata": {},
   "outputs": [
    {
     "data": {
      "text/html": [
       "<div>\n",
       "<style scoped>\n",
       "    .dataframe tbody tr th:only-of-type {\n",
       "        vertical-align: middle;\n",
       "    }\n",
       "\n",
       "    .dataframe tbody tr th {\n",
       "        vertical-align: top;\n",
       "    }\n",
       "\n",
       "    .dataframe thead th {\n",
       "        text-align: right;\n",
       "    }\n",
       "</style>\n",
       "<table border=\"1\" class=\"dataframe\">\n",
       "  <thead>\n",
       "    <tr style=\"text-align: right;\">\n",
       "      <th></th>\n",
       "      <th>index</th>\n",
       "      <th>Country</th>\n",
       "    </tr>\n",
       "  </thead>\n",
       "  <tbody>\n",
       "    <tr>\n",
       "      <th>0</th>\n",
       "      <td>Least developed countries: UN classification</td>\n",
       "      <td>31</td>\n",
       "    </tr>\n",
       "    <tr>\n",
       "      <th>1</th>\n",
       "      <td>Niger</td>\n",
       "      <td>31</td>\n",
       "    </tr>\n",
       "    <tr>\n",
       "      <th>2</th>\n",
       "      <td>Middle East &amp; North Africa (IDA &amp; IBRD)</td>\n",
       "      <td>31</td>\n",
       "    </tr>\n",
       "    <tr>\n",
       "      <th>3</th>\n",
       "      <td>Middle income</td>\n",
       "      <td>31</td>\n",
       "    </tr>\n",
       "    <tr>\n",
       "      <th>4</th>\n",
       "      <td>Mongolia</td>\n",
       "      <td>31</td>\n",
       "    </tr>\n",
       "    <tr>\n",
       "      <th>...</th>\n",
       "      <td>...</td>\n",
       "      <td>...</td>\n",
       "    </tr>\n",
       "    <tr>\n",
       "      <th>200</th>\n",
       "      <td>IDA only</td>\n",
       "      <td>31</td>\n",
       "    </tr>\n",
       "    <tr>\n",
       "      <th>201</th>\n",
       "      <td>Fragile and conflict affected situations</td>\n",
       "      <td>31</td>\n",
       "    </tr>\n",
       "    <tr>\n",
       "      <th>202</th>\n",
       "      <td>Ireland</td>\n",
       "      <td>31</td>\n",
       "    </tr>\n",
       "    <tr>\n",
       "      <th>203</th>\n",
       "      <td>France</td>\n",
       "      <td>31</td>\n",
       "    </tr>\n",
       "    <tr>\n",
       "      <th>204</th>\n",
       "      <td>Italy</td>\n",
       "      <td>31</td>\n",
       "    </tr>\n",
       "  </tbody>\n",
       "</table>\n",
       "<p>205 rows × 2 columns</p>\n",
       "</div>"
      ],
      "text/plain": [
       "                                            index  Country\n",
       "0    Least developed countries: UN classification       31\n",
       "1                                           Niger       31\n",
       "2         Middle East & North Africa (IDA & IBRD)       31\n",
       "3                                   Middle income       31\n",
       "4                                        Mongolia       31\n",
       "..                                            ...      ...\n",
       "200                                      IDA only       31\n",
       "201      Fragile and conflict affected situations       31\n",
       "202                                       Ireland       31\n",
       "203                                        France       31\n",
       "204                                         Italy       31\n",
       "\n",
       "[205 rows x 2 columns]"
      ]
     },
     "execution_count": 7,
     "metadata": {},
     "output_type": "execute_result"
    }
   ],
   "source": [
    "new_gdp = gdp_df_2.Country.value_counts().to_frame().reset_index()\n",
    "new_gdp.loc[new_gdp.Country == 31]"
   ]
  },
  {
   "cell_type": "code",
   "execution_count": 8,
   "id": "1507e0c6",
   "metadata": {},
   "outputs": [
    {
     "data": {
      "text/plain": [
       "(37, 2)"
      ]
     },
     "execution_count": 8,
     "metadata": {},
     "output_type": "execute_result"
    }
   ],
   "source": [
    "new_gdp.loc[new_gdp.Country != 31].shape"
   ]
  },
  {
   "cell_type": "code",
   "execution_count": 9,
   "id": "4527ca35",
   "metadata": {},
   "outputs": [
    {
     "data": {
      "text/plain": [
       "2018    242\n",
       "2017    242\n",
       "2016    242\n",
       "2015    242\n",
       "2014    242\n",
       "2013    242\n",
       "2019    241\n",
       "2020    240\n",
       "2012    240\n",
       "2011    240\n",
       "2010    239\n",
       "2009    239\n",
       "2008    238\n",
       "2007    237\n",
       "2006    237\n",
       "2004    236\n",
       "2005    236\n",
       "2003    235\n",
       "2002    235\n",
       "2001    234\n",
       "2000    233\n",
       "1999    227\n",
       "1998    226\n",
       "1997    226\n",
       "1996    222\n",
       "1995    222\n",
       "1994    211\n",
       "1993    209\n",
       "1992    208\n",
       "1991    207\n",
       "1990    206\n",
       "Name: Year, dtype: int64"
      ]
     },
     "execution_count": 9,
     "metadata": {},
     "output_type": "execute_result"
    }
   ],
   "source": [
    "year_gdp = gdp_df_2.Year.value_counts()\n",
    "year_gdp"
   ]
  },
  {
   "cell_type": "markdown",
   "id": "0c05c3b9",
   "metadata": {},
   "source": [
    "# 8. In this question, you're going to create some plots to show the distribution of GDP per capita for the year 2020. Go to the Python Graph Gallery (https://www.python-graph-gallery.com/) and look at the different types of plots under the Distribution section. Create a histogram, a density plot, a boxplot, and a violin plot. What do you notice when you look at these plots? How do the plots compare and what information can you get out of one type that you can't necessarily get out of the others?"
   ]
  },
  {
   "cell_type": "markdown",
   "id": "63bd1f79",
   "metadata": {},
   "source": [
    "#Different Visualizations"
   ]
  },
  {
   "cell_type": "code",
   "execution_count": 10,
   "id": "9af01630",
   "metadata": {},
   "outputs": [
    {
     "name": "stderr",
     "output_type": "stream",
     "text": [
      "C:\\Users\\hunte\\AppData\\Local\\Temp\\ipykernel_5556\\3891047880.py:1: UserWarning: \n",
      "\n",
      "`distplot` is a deprecated function and will be removed in seaborn v0.14.0.\n",
      "\n",
      "Please adapt your code to use either `displot` (a figure-level function with\n",
      "similar flexibility) or `histplot` (an axes-level function for histograms).\n",
      "\n",
      "For a guide to updating your code to use the new functions, please see\n",
      "https://gist.github.com/mwaskom/de44147ed2974457ad6372750bbe5751\n",
      "\n",
      "  sns.distplot(a=gdp_df_2['GDP_Per_Capita'])\n"
     ]
    },
    {
     "data": {
      "text/plain": [
       "<Axes: xlabel='GDP_Per_Capita', ylabel='Density'>"
      ]
     },
     "execution_count": 10,
     "metadata": {},
     "output_type": "execute_result"
    },
    {
     "data": {
      "image/png": "[encoded data removed]",
      "text/plain": [
       "<Figure size 640x480 with 1 Axes>"
      ]
     },
     "metadata": {},
     "output_type": "display_data"
    }
   ],
   "source": [
    "sns.distplot(a=gdp_df_2['GDP_Per_Capita'])"
   ]
  },
  {
   "cell_type": "code",
   "execution_count": 11,
   "id": "ae74c2a3",
   "metadata": {},
   "outputs": [
    {
     "data": {
      "text/plain": [
       "<Axes: xlabel='GDP_Per_Capita', ylabel='Density'>"
      ]
     },
     "execution_count": 11,
     "metadata": {},
     "output_type": "execute_result"
    },
    {
     "data": {
      "image/png": "[encoded data removed]",
      "text/plain": [
       "<Figure size 640x480 with 1 Axes>"
      ]
     },
     "metadata": {},
     "output_type": "display_data"
    }
   ],
   "source": [
    "sns.kdeplot(gdp_df_2['GDP_Per_Capita'])"
   ]
  },
  {
   "cell_type": "code",
   "execution_count": 12,
   "id": "696ca005",
   "metadata": {},
   "outputs": [
    {
     "data": {
      "text/plain": [
       "<Axes: xlabel='Year', ylabel='GDP_Per_Capita'>"
      ]
     },
     "execution_count": 12,
     "metadata": {},
     "output_type": "execute_result"
    },
    {
     "data": {
      "image/png": "[encoded data removed]",
      "text/plain": [
       "<Figure size 640x480 with 1 Axes>"
      ]
     },
     "metadata": {},
     "output_type": "display_data"
    }
   ],
   "source": [
    "sns.boxplot(x = gdp_df_2['Year'], y = gdp_df_2['GDP_Per_Capita'])"
   ]
  },
  {
   "cell_type": "code",
   "execution_count": 13,
   "id": "e2d6f757",
   "metadata": {},
   "outputs": [
    {
     "data": {
      "text/plain": [
       "<Axes: xlabel='Year', ylabel='GDP_Per_Capita'>"
      ]
     },
     "execution_count": 13,
     "metadata": {},
     "output_type": "execute_result"
    },
    {
     "data": {
      "image/png": "[encoded data removed]",
      "text/plain": [
       "<Figure size 640x480 with 1 Axes>"
      ]
     },
     "metadata": {},
     "output_type": "display_data"
    }
   ],
   "source": [
    "sns.violinplot(x = gdp_df_2['Year'], y = gdp_df_2['GDP_Per_Capita'])"
   ]
  },
  {
   "cell_type": "markdown",
   "id": "b4a1ce63",
   "metadata": {},
   "source": [
    "# 9. What was the median GDP per capita value in 2020? 12908.937406"
   ]
  },
  {
   "cell_type": "markdown",
   "id": "ec7fba25",
   "metadata": {},
   "source": [
    "#Defining gdp_2020"
   ]
  },
  {
   "cell_type": "code",
   "execution_count": 14,
   "id": "9d8a4994",
   "metadata": {},
   "outputs": [
    {
     "data": {
      "text/html": [
       "<div>\n",
       "<style scoped>\n",
       "    .dataframe tbody tr th:only-of-type {\n",
       "        vertical-align: middle;\n",
       "    }\n",
       "\n",
       "    .dataframe tbody tr th {\n",
       "        vertical-align: top;\n",
       "    }\n",
       "\n",
       "    .dataframe thead th {\n",
       "        text-align: right;\n",
       "    }\n",
       "</style>\n",
       "<table border=\"1\" class=\"dataframe\">\n",
       "  <thead>\n",
       "    <tr style=\"text-align: right;\">\n",
       "      <th></th>\n",
       "      <th>Country</th>\n",
       "      <th>Year</th>\n",
       "      <th>GDP_Per_Capita</th>\n",
       "    </tr>\n",
       "  </thead>\n",
       "  <tbody>\n",
       "    <tr>\n",
       "      <th>0</th>\n",
       "      <td>Afghanistan</td>\n",
       "      <td>2020</td>\n",
       "      <td>1970.560169</td>\n",
       "    </tr>\n",
       "    <tr>\n",
       "      <th>19</th>\n",
       "      <td>Africa Eastern and Southern</td>\n",
       "      <td>2020</td>\n",
       "      <td>3491.978104</td>\n",
       "    </tr>\n",
       "    <tr>\n",
       "      <th>50</th>\n",
       "      <td>Africa Western and Central</td>\n",
       "      <td>2020</td>\n",
       "      <td>4021.293919</td>\n",
       "    </tr>\n",
       "    <tr>\n",
       "      <th>81</th>\n",
       "      <td>Albania</td>\n",
       "      <td>2020</td>\n",
       "      <td>13253.733337</td>\n",
       "    </tr>\n",
       "    <tr>\n",
       "      <th>112</th>\n",
       "      <td>Algeria</td>\n",
       "      <td>2020</td>\n",
       "      <td>10735.382539</td>\n",
       "    </tr>\n",
       "    <tr>\n",
       "      <th>...</th>\n",
       "      <td>...</td>\n",
       "      <td>...</td>\n",
       "      <td>...</td>\n",
       "    </tr>\n",
       "    <tr>\n",
       "      <th>7025</th>\n",
       "      <td>Vietnam</td>\n",
       "      <td>2020</td>\n",
       "      <td>10338.270543</td>\n",
       "    </tr>\n",
       "    <tr>\n",
       "      <th>7056</th>\n",
       "      <td>West Bank and Gaza</td>\n",
       "      <td>2020</td>\n",
       "      <td>5402.538773</td>\n",
       "    </tr>\n",
       "    <tr>\n",
       "      <th>7083</th>\n",
       "      <td>World</td>\n",
       "      <td>2020</td>\n",
       "      <td>16269.969854</td>\n",
       "    </tr>\n",
       "    <tr>\n",
       "      <th>7114</th>\n",
       "      <td>Zambia</td>\n",
       "      <td>2020</td>\n",
       "      <td>3277.816510</td>\n",
       "    </tr>\n",
       "    <tr>\n",
       "      <th>7145</th>\n",
       "      <td>Zimbabwe</td>\n",
       "      <td>2020</td>\n",
       "      <td>2134.555461</td>\n",
       "    </tr>\n",
       "  </tbody>\n",
       "</table>\n",
       "<p>240 rows × 3 columns</p>\n",
       "</div>"
      ],
      "text/plain": [
       "                          Country  Year  GDP_Per_Capita\n",
       "0                     Afghanistan  2020     1970.560169\n",
       "19    Africa Eastern and Southern  2020     3491.978104\n",
       "50     Africa Western and Central  2020     4021.293919\n",
       "81                        Albania  2020    13253.733337\n",
       "112                       Algeria  2020    10735.382539\n",
       "...                           ...   ...             ...\n",
       "7025                      Vietnam  2020    10338.270543\n",
       "7056           West Bank and Gaza  2020     5402.538773\n",
       "7083                        World  2020    16269.969854\n",
       "7114                       Zambia  2020     3277.816510\n",
       "7145                     Zimbabwe  2020     2134.555461\n",
       "\n",
       "[240 rows x 3 columns]"
      ]
     },
     "execution_count": 14,
     "metadata": {},
     "output_type": "execute_result"
    }
   ],
   "source": [
    "gdp_2020 = gdp_df_2.loc[gdp_df_2['Year'] == 2020]\n",
    "gdp_2020"
   ]
  },
  {
   "cell_type": "markdown",
   "id": "536972b5",
   "metadata": {},
   "source": [
    "#Describe to show median"
   ]
  },
  {
   "cell_type": "code",
   "execution_count": 15,
   "id": "3b2711bd",
   "metadata": {},
   "outputs": [
    {
     "data": {
      "text/html": [
       "<div>\n",
       "<style scoped>\n",
       "    .dataframe tbody tr th:only-of-type {\n",
       "        vertical-align: middle;\n",
       "    }\n",
       "\n",
       "    .dataframe tbody tr th {\n",
       "        vertical-align: top;\n",
       "    }\n",
       "\n",
       "    .dataframe thead th {\n",
       "        text-align: right;\n",
       "    }\n",
       "</style>\n",
       "<table border=\"1\" class=\"dataframe\">\n",
       "  <thead>\n",
       "    <tr style=\"text-align: right;\">\n",
       "      <th></th>\n",
       "      <th>Year</th>\n",
       "      <th>GDP_Per_Capita</th>\n",
       "    </tr>\n",
       "  </thead>\n",
       "  <tbody>\n",
       "    <tr>\n",
       "      <th>count</th>\n",
       "      <td>240.0</td>\n",
       "      <td>240.000000</td>\n",
       "    </tr>\n",
       "    <tr>\n",
       "      <th>mean</th>\n",
       "      <td>2020.0</td>\n",
       "      <td>19496.881712</td>\n",
       "    </tr>\n",
       "    <tr>\n",
       "      <th>std</th>\n",
       "      <td>0.0</td>\n",
       "      <td>19586.817493</td>\n",
       "    </tr>\n",
       "    <tr>\n",
       "      <th>min</th>\n",
       "      <td>2020.0</td>\n",
       "      <td>731.064074</td>\n",
       "    </tr>\n",
       "    <tr>\n",
       "      <th>25%</th>\n",
       "      <td>2020.0</td>\n",
       "      <td>4945.083068</td>\n",
       "    </tr>\n",
       "    <tr>\n",
       "      <th>50%</th>\n",
       "      <td>2020.0</td>\n",
       "      <td>12908.937406</td>\n",
       "    </tr>\n",
       "    <tr>\n",
       "      <th>75%</th>\n",
       "      <td>2020.0</td>\n",
       "      <td>27196.648661</td>\n",
       "    </tr>\n",
       "    <tr>\n",
       "      <th>max</th>\n",
       "      <td>2020.0</td>\n",
       "      <td>112557.309472</td>\n",
       "    </tr>\n",
       "  </tbody>\n",
       "</table>\n",
       "</div>"
      ],
      "text/plain": [
       "         Year  GDP_Per_Capita\n",
       "count   240.0      240.000000\n",
       "mean   2020.0    19496.881712\n",
       "std       0.0    19586.817493\n",
       "min    2020.0      731.064074\n",
       "25%    2020.0     4945.083068\n",
       "50%    2020.0    12908.937406\n",
       "75%    2020.0    27196.648661\n",
       "max    2020.0   112557.309472"
      ]
     },
     "execution_count": 15,
     "metadata": {},
     "output_type": "execute_result"
    }
   ],
   "source": [
    "gdp_2020.describe()"
   ]
  },
  {
   "cell_type": "markdown",
   "id": "82b637ea",
   "metadata": {},
   "source": [
    "# 10. For this question, you're going to create some visualizations to compare GDP per capita values for the years 1990, 2000, 2010, and 2020. Start by subsetting your data to just these 4 years into a new DataFrame named gdp_decades. Using this, create the following 4 plots:\n",
    "\t* A boxplot\n",
    "\t* A barplot (check out the Barplot with Seaborn section: https://www.python-graph-gallery.com/barplot/#Seaborn)\n",
    "\t* A scatterplot\n",
    "\t* A scatterplot with a trend line overlaid (see this regplot example: https://www.python-graph-gallery.com/42-custom-linear-regression-fit-seaborn)"
   ]
  },
  {
   "cell_type": "markdown",
   "id": "25ca2dc8",
   "metadata": {},
   "source": [
    "#Query to define decades"
   ]
  },
  {
   "cell_type": "code",
   "execution_count": 16,
   "id": "a6e6706b",
   "metadata": {},
   "outputs": [],
   "source": [
    "years = [1990, 2000, 2010, 2020]"
   ]
  },
  {
   "cell_type": "code",
   "execution_count": 17,
   "id": "ffaf2c6e",
   "metadata": {},
   "outputs": [
    {
     "data": {
      "text/html": [
       "<div>\n",
       "<style scoped>\n",
       "    .dataframe tbody tr th:only-of-type {\n",
       "        vertical-align: middle;\n",
       "    }\n",
       "\n",
       "    .dataframe tbody tr th {\n",
       "        vertical-align: top;\n",
       "    }\n",
       "\n",
       "    .dataframe thead th {\n",
       "        text-align: right;\n",
       "    }\n",
       "</style>\n",
       "<table border=\"1\" class=\"dataframe\">\n",
       "  <thead>\n",
       "    <tr style=\"text-align: right;\">\n",
       "      <th></th>\n",
       "      <th>Country</th>\n",
       "      <th>Year</th>\n",
       "      <th>GDP_Per_Capita</th>\n",
       "    </tr>\n",
       "  </thead>\n",
       "  <tbody>\n",
       "    <tr>\n",
       "      <th>0</th>\n",
       "      <td>Afghanistan</td>\n",
       "      <td>2020</td>\n",
       "      <td>1970.560169</td>\n",
       "    </tr>\n",
       "    <tr>\n",
       "      <th>10</th>\n",
       "      <td>Afghanistan</td>\n",
       "      <td>2010</td>\n",
       "      <td>1957.029070</td>\n",
       "    </tr>\n",
       "    <tr>\n",
       "      <th>19</th>\n",
       "      <td>Africa Eastern and Southern</td>\n",
       "      <td>2020</td>\n",
       "      <td>3491.978104</td>\n",
       "    </tr>\n",
       "    <tr>\n",
       "      <th>29</th>\n",
       "      <td>Africa Eastern and Southern</td>\n",
       "      <td>2010</td>\n",
       "      <td>3545.205203</td>\n",
       "    </tr>\n",
       "    <tr>\n",
       "      <th>39</th>\n",
       "      <td>Africa Eastern and Southern</td>\n",
       "      <td>2000</td>\n",
       "      <td>2915.472987</td>\n",
       "    </tr>\n",
       "    <tr>\n",
       "      <th>...</th>\n",
       "      <td>...</td>\n",
       "      <td>...</td>\n",
       "      <td>...</td>\n",
       "    </tr>\n",
       "    <tr>\n",
       "      <th>7144</th>\n",
       "      <td>Zambia</td>\n",
       "      <td>1990</td>\n",
       "      <td>2190.181724</td>\n",
       "    </tr>\n",
       "    <tr>\n",
       "      <th>7145</th>\n",
       "      <td>Zimbabwe</td>\n",
       "      <td>2020</td>\n",
       "      <td>2134.555461</td>\n",
       "    </tr>\n",
       "    <tr>\n",
       "      <th>7155</th>\n",
       "      <td>Zimbabwe</td>\n",
       "      <td>2010</td>\n",
       "      <td>1813.531764</td>\n",
       "    </tr>\n",
       "    <tr>\n",
       "      <th>7165</th>\n",
       "      <td>Zimbabwe</td>\n",
       "      <td>2000</td>\n",
       "      <td>2771.060576</td>\n",
       "    </tr>\n",
       "    <tr>\n",
       "      <th>7175</th>\n",
       "      <td>Zimbabwe</td>\n",
       "      <td>1990</td>\n",
       "      <td>2652.129209</td>\n",
       "    </tr>\n",
       "  </tbody>\n",
       "</table>\n",
       "<p>918 rows × 3 columns</p>\n",
       "</div>"
      ],
      "text/plain": [
       "                          Country  Year  GDP_Per_Capita\n",
       "0                     Afghanistan  2020     1970.560169\n",
       "10                    Afghanistan  2010     1957.029070\n",
       "19    Africa Eastern and Southern  2020     3491.978104\n",
       "29    Africa Eastern and Southern  2010     3545.205203\n",
       "39    Africa Eastern and Southern  2000     2915.472987\n",
       "...                           ...   ...             ...\n",
       "7144                       Zambia  1990     2190.181724\n",
       "7145                     Zimbabwe  2020     2134.555461\n",
       "7155                     Zimbabwe  2010     1813.531764\n",
       "7165                     Zimbabwe  2000     2771.060576\n",
       "7175                     Zimbabwe  1990     2652.129209\n",
       "\n",
       "[918 rows x 3 columns]"
      ]
     },
     "execution_count": 17,
     "metadata": {},
     "output_type": "execute_result"
    }
   ],
   "source": [
    "gdp_decades = gdp_df_2.query('Year in @years')\n",
    "gdp_decades"
   ]
  },
  {
   "cell_type": "markdown",
   "id": "ee15ef72",
   "metadata": {},
   "source": [
    "#Boxplot for Decades"
   ]
  },
  {
   "cell_type": "code",
   "execution_count": 18,
   "id": "d044e7bf",
   "metadata": {},
   "outputs": [
    {
     "data": {
      "text/plain": [
       "<Axes: xlabel='Year', ylabel='GDP_Per_Capita'>"
      ]
     },
     "execution_count": 18,
     "metadata": {},
     "output_type": "execute_result"
    },
    {
     "data": {
      "image/png": "[encoded data removed]",
      "text/plain": [
       "<Figure size 640x480 with 1 Axes>"
      ]
     },
     "metadata": {},
     "output_type": "display_data"
    }
   ],
   "source": [
    "sns.boxplot(x = gdp_decades['Year'], y = gdp_decades['GDP_Per_Capita'])"
   ]
  },
  {
   "cell_type": "markdown",
   "id": "012a59cc",
   "metadata": {},
   "source": [
    "#Barplot for decades"
   ]
  },
  {
   "cell_type": "code",
   "execution_count": 19,
   "id": "d908d1c4",
   "metadata": {},
   "outputs": [
    {
     "name": "stderr",
     "output_type": "stream",
     "text": [
      "C:\\Users\\hunte\\AppData\\Local\\Temp\\ipykernel_5556\\2210766681.py:1: FutureWarning: \n",
      "\n",
      "The `ci` parameter is deprecated. Use `errorbar=None` for the same effect.\n",
      "\n",
      "  sns.barplot(x = 'Year', y = 'GDP_Per_Capita',\n"
     ]
    },
    {
     "data": {
      "text/plain": [
       "<Axes: xlabel='Year', ylabel='GDP_Per_Capita'>"
      ]
     },
     "execution_count": 19,
     "metadata": {},
     "output_type": "execute_result"
    },
    {
     "data": {
      "image/png": "[encoded data removed]",
      "text/plain": [
       "<Figure size 640x480 with 1 Axes>"
      ]
     },
     "metadata": {},
     "output_type": "display_data"
    }
   ],
   "source": [
    "sns.barplot(x = 'Year', y = 'GDP_Per_Capita',\n",
    "            data = gdp_decades, ci = None)"
   ]
  },
  {
   "cell_type": "markdown",
   "id": "ce381baf",
   "metadata": {},
   "source": [
    "#Scatterplot for decades"
   ]
  },
  {
   "cell_type": "code",
   "execution_count": 20,
   "id": "e877669f",
   "metadata": {},
   "outputs": [
    {
     "data": {
      "text/plain": [
       "<Axes: xlabel='Year', ylabel='GDP_Per_Capita'>"
      ]
     },
     "execution_count": 20,
     "metadata": {},
     "output_type": "execute_result"
    },
    {
     "data": {
      "image/png": "[encoded data removed]",
      "text/plain": [
       "<Figure size 640x480 with 1 Axes>"
      ]
     },
     "metadata": {},
     "output_type": "display_data"
    }
   ],
   "source": [
    "sns.regplot(x = gdp_decades['Year'], y = gdp_decades['GDP_Per_Capita'])"
   ]
  },
  {
   "cell_type": "markdown",
   "id": "bf35a828",
   "metadata": {},
   "source": [
    "# 11. Which country was the first to have a GDP per capita greater than 100,000?\n",
    "United Arab Emirates"
   ]
  },
  {
   "cell_type": "markdown",
   "id": "a7a148b6",
   "metadata": {},
   "source": [
    "#find first country with 100k gdp.\n",
    "#create df for 1990 and .loc to find gdp over 100k"
   ]
  },
  {
   "cell_type": "code",
   "execution_count": 21,
   "id": "fe1f773f",
   "metadata": {},
   "outputs": [
    {
     "data": {
      "text/html": [
       "<div>\n",
       "<style scoped>\n",
       "    .dataframe tbody tr th:only-of-type {\n",
       "        vertical-align: middle;\n",
       "    }\n",
       "\n",
       "    .dataframe tbody tr th {\n",
       "        vertical-align: top;\n",
       "    }\n",
       "\n",
       "    .dataframe thead th {\n",
       "        text-align: right;\n",
       "    }\n",
       "</style>\n",
       "<table border=\"1\" class=\"dataframe\">\n",
       "  <thead>\n",
       "    <tr style=\"text-align: right;\">\n",
       "      <th></th>\n",
       "      <th>Country</th>\n",
       "      <th>Year</th>\n",
       "      <th>GDP_Per_Capita</th>\n",
       "    </tr>\n",
       "  </thead>\n",
       "  <tbody>\n",
       "    <tr>\n",
       "      <th>6838</th>\n",
       "      <td>United Arab Emirates</td>\n",
       "      <td>1990</td>\n",
       "      <td>111454.055665</td>\n",
       "    </tr>\n",
       "  </tbody>\n",
       "</table>\n",
       "</div>"
      ],
      "text/plain": [
       "                   Country  Year  GDP_Per_Capita\n",
       "6838  United Arab Emirates  1990   111454.055665"
      ]
     },
     "execution_count": 21,
     "metadata": {},
     "output_type": "execute_result"
    }
   ],
   "source": [
    "gdp_1990 = gdp_df_2.loc[gdp_df_2['Year'] == 1990]\n",
    "gdp_1990_100k = gdp_1990.loc[gdp_1990['GDP_Per_Capita'] > 100000]\n",
    "gdp_1990_100k"
   ]
  },
  {
   "cell_type": "markdown",
   "id": "a5c6af56",
   "metadata": {},
   "source": [
    "# 12. Which country had the highest GDP per capita in 2020? Create a plot showing how this country's GDP per capita has changed over the timespan of the dataset."
   ]
  },
  {
   "cell_type": "markdown",
   "id": "f3791b14",
   "metadata": {},
   "source": [
    "#create a sorted dataframe to find the top GDP per capita in 2020"
   ]
  },
  {
   "cell_type": "code",
   "execution_count": 22,
   "id": "dfef9a32",
   "metadata": {},
   "outputs": [
    {
     "data": {
      "text/html": [
       "<div>\n",
       "<style scoped>\n",
       "    .dataframe tbody tr th:only-of-type {\n",
       "        vertical-align: middle;\n",
       "    }\n",
       "\n",
       "    .dataframe tbody tr th {\n",
       "        vertical-align: top;\n",
       "    }\n",
       "\n",
       "    .dataframe thead th {\n",
       "        text-align: right;\n",
       "    }\n",
       "</style>\n",
       "<table border=\"1\" class=\"dataframe\">\n",
       "  <thead>\n",
       "    <tr style=\"text-align: right;\">\n",
       "      <th></th>\n",
       "      <th>Country</th>\n",
       "      <th>Year</th>\n",
       "      <th>GDP_Per_Capita</th>\n",
       "    </tr>\n",
       "  </thead>\n",
       "  <tbody>\n",
       "    <tr>\n",
       "      <th>3882</th>\n",
       "      <td>Luxembourg</td>\n",
       "      <td>2020</td>\n",
       "      <td>112557.309472</td>\n",
       "    </tr>\n",
       "  </tbody>\n",
       "</table>\n",
       "</div>"
      ],
      "text/plain": [
       "         Country  Year  GDP_Per_Capita\n",
       "3882  Luxembourg  2020   112557.309472"
      ]
     },
     "execution_count": 22,
     "metadata": {},
     "output_type": "execute_result"
    }
   ],
   "source": [
    "gdp_2020_sorted = gdp_2020.sort_values(by = 'GDP_Per_Capita', ascending = False)\n",
    "gdp_2020_sorted.head(1)"
   ]
  },
  {
   "cell_type": "code",
   "execution_count": 23,
   "id": "a132bc1b",
   "metadata": {},
   "outputs": [
    {
     "data": {
      "text/plain": [
       "<Axes: xlabel='Year', ylabel='GDP_Per_Capita'>"
      ]
     },
     "execution_count": 23,
     "metadata": {},
     "output_type": "execute_result"
    },
    {
     "data": {
      "image/png": "[encoded data removed]",
      "text/plain": [
       "<Figure size 640x480 with 1 Axes>"
      ]
     },
     "metadata": {},
     "output_type": "display_data"
    }
   ],
   "source": [
    "lux_gdp = gdp_df_2.loc[gdp_df_2['Country'] == 'Luxembourg']\n",
    "sns.regplot(x = lux_gdp['Year'], y = lux_gdp['GDP_Per_Capita'])"
   ]
  },
  {
   "cell_type": "markdown",
   "id": "8b8d7ef4",
   "metadata": {},
   "source": [
    "# 13. Which country had the lowest GDP per capita in 2020? Create a plot showing how this country's GDP per capita has changed over the timespan of the dataset. "
   ]
  },
  {
   "cell_type": "markdown",
   "id": "ef81cf39",
   "metadata": {},
   "source": [
    "#resort it to find lowest GDP for 2020"
   ]
  },
  {
   "cell_type": "code",
   "execution_count": 24,
   "id": "bf2412ff",
   "metadata": {},
   "outputs": [
    {
     "data": {
      "text/html": [
       "<div>\n",
       "<style scoped>\n",
       "    .dataframe tbody tr th:only-of-type {\n",
       "        vertical-align: middle;\n",
       "    }\n",
       "\n",
       "    .dataframe tbody tr th {\n",
       "        vertical-align: top;\n",
       "    }\n",
       "\n",
       "    .dataframe thead th {\n",
       "        text-align: right;\n",
       "    }\n",
       "</style>\n",
       "<table border=\"1\" class=\"dataframe\">\n",
       "  <thead>\n",
       "    <tr style=\"text-align: right;\">\n",
       "      <th></th>\n",
       "      <th>Country</th>\n",
       "      <th>Year</th>\n",
       "      <th>GDP_Per_Capita</th>\n",
       "    </tr>\n",
       "  </thead>\n",
       "  <tbody>\n",
       "    <tr>\n",
       "      <th>914</th>\n",
       "      <td>Burundi</td>\n",
       "      <td>2020</td>\n",
       "      <td>731.064074</td>\n",
       "    </tr>\n",
       "  </tbody>\n",
       "</table>\n",
       "</div>"
      ],
      "text/plain": [
       "     Country  Year  GDP_Per_Capita\n",
       "914  Burundi  2020      731.064074"
      ]
     },
     "execution_count": 24,
     "metadata": {},
     "output_type": "execute_result"
    }
   ],
   "source": [
    "gdp_2020_sorted = gdp_2020.sort_values(by = 'GDP_Per_Capita', ascending = True)\n",
    "gdp_2020_sorted.head(1)"
   ]
  },
  {
   "cell_type": "code",
   "execution_count": 25,
   "id": "13a155c3",
   "metadata": {},
   "outputs": [
    {
     "data": {
      "text/plain": [
       "<Axes: xlabel='Year', ylabel='GDP_Per_Capita'>"
      ]
     },
     "execution_count": 25,
     "metadata": {},
     "output_type": "execute_result"
    },
    {
     "data": {
      "image/png": "[encoded data removed]",
      "text/plain": [
       "<Figure size 640x480 with 1 Axes>"
      ]
     },
     "metadata": {},
     "output_type": "display_data"
    }
   ],
   "source": [
    "burundi_gdp = gdp_df_2.loc[gdp_df_2['Country'] == 'Burundi']\n",
    "sns.regplot(x = burundi_gdp['Year'], y = burundi_gdp['GDP_Per_Capita'])"
   ]
  },
  {
   "cell_type": "markdown",
   "id": "e8a4ae33",
   "metadata": {},
   "source": [
    "# 13 Bonus question: Is it true in general that coutries had a higher GDP per capita in 2020 than in 1990? Which countries had lower GDP per capita in 2020 than in 1990?\n",
    "Average GDP for 1990 is 12491 and 2020 average GDP is 18622. There are 22 countries with a lower GDP in 2020 than in 1990"
   ]
  },
  {
   "cell_type": "markdown",
   "id": "fc1b50fa",
   "metadata": {},
   "source": [
    "#join gdp_1990 and gdp_2020"
   ]
  },
  {
   "cell_type": "code",
   "execution_count": 26,
   "id": "4ff85306",
   "metadata": {},
   "outputs": [
    {
     "data": {
      "text/html": [
       "<div>\n",
       "<style scoped>\n",
       "    .dataframe tbody tr th:only-of-type {\n",
       "        vertical-align: middle;\n",
       "    }\n",
       "\n",
       "    .dataframe tbody tr th {\n",
       "        vertical-align: top;\n",
       "    }\n",
       "\n",
       "    .dataframe thead th {\n",
       "        text-align: right;\n",
       "    }\n",
       "</style>\n",
       "<table border=\"1\" class=\"dataframe\">\n",
       "  <thead>\n",
       "    <tr style=\"text-align: right;\">\n",
       "      <th></th>\n",
       "      <th>Country</th>\n",
       "      <th>Year_x</th>\n",
       "      <th>GDP_Per_Capita_x</th>\n",
       "      <th>Year_y</th>\n",
       "      <th>GDP_Per_Capita_y</th>\n",
       "    </tr>\n",
       "  </thead>\n",
       "  <tbody>\n",
       "    <tr>\n",
       "      <th>0</th>\n",
       "      <td>Africa Eastern and Southern</td>\n",
       "      <td>1990</td>\n",
       "      <td>3083.976800</td>\n",
       "      <td>2020</td>\n",
       "      <td>3491.978104</td>\n",
       "    </tr>\n",
       "    <tr>\n",
       "      <th>1</th>\n",
       "      <td>Africa Western and Central</td>\n",
       "      <td>1990</td>\n",
       "      <td>2810.341129</td>\n",
       "      <td>2020</td>\n",
       "      <td>4021.293919</td>\n",
       "    </tr>\n",
       "    <tr>\n",
       "      <th>2</th>\n",
       "      <td>Albania</td>\n",
       "      <td>1990</td>\n",
       "      <td>4827.034551</td>\n",
       "      <td>2020</td>\n",
       "      <td>13253.733337</td>\n",
       "    </tr>\n",
       "    <tr>\n",
       "      <th>3</th>\n",
       "      <td>Algeria</td>\n",
       "      <td>1990</td>\n",
       "      <td>8746.340762</td>\n",
       "      <td>2020</td>\n",
       "      <td>10735.382539</td>\n",
       "    </tr>\n",
       "    <tr>\n",
       "      <th>4</th>\n",
       "      <td>Angola</td>\n",
       "      <td>1990</td>\n",
       "      <td>5758.950488</td>\n",
       "      <td>2020</td>\n",
       "      <td>6141.963839</td>\n",
       "    </tr>\n",
       "    <tr>\n",
       "      <th>...</th>\n",
       "      <td>...</td>\n",
       "      <td>...</td>\n",
       "      <td>...</td>\n",
       "      <td>...</td>\n",
       "      <td>...</td>\n",
       "    </tr>\n",
       "    <tr>\n",
       "      <th>200</th>\n",
       "      <td>Vanuatu</td>\n",
       "      <td>1990</td>\n",
       "      <td>2855.554643</td>\n",
       "      <td>2020</td>\n",
       "      <td>2878.475335</td>\n",
       "    </tr>\n",
       "    <tr>\n",
       "      <th>201</th>\n",
       "      <td>Vietnam</td>\n",
       "      <td>1990</td>\n",
       "      <td>2066.372215</td>\n",
       "      <td>2020</td>\n",
       "      <td>10338.270543</td>\n",
       "    </tr>\n",
       "    <tr>\n",
       "      <th>202</th>\n",
       "      <td>World</td>\n",
       "      <td>1990</td>\n",
       "      <td>9704.621768</td>\n",
       "      <td>2020</td>\n",
       "      <td>16269.969854</td>\n",
       "    </tr>\n",
       "    <tr>\n",
       "      <th>203</th>\n",
       "      <td>Zambia</td>\n",
       "      <td>1990</td>\n",
       "      <td>2190.181724</td>\n",
       "      <td>2020</td>\n",
       "      <td>3277.816510</td>\n",
       "    </tr>\n",
       "    <tr>\n",
       "      <th>204</th>\n",
       "      <td>Zimbabwe</td>\n",
       "      <td>1990</td>\n",
       "      <td>2652.129209</td>\n",
       "      <td>2020</td>\n",
       "      <td>2134.555461</td>\n",
       "    </tr>\n",
       "  </tbody>\n",
       "</table>\n",
       "<p>205 rows × 5 columns</p>\n",
       "</div>"
      ],
      "text/plain": [
       "                         Country  Year_x  GDP_Per_Capita_x  Year_y  \\\n",
       "0    Africa Eastern and Southern    1990       3083.976800    2020   \n",
       "1     Africa Western and Central    1990       2810.341129    2020   \n",
       "2                        Albania    1990       4827.034551    2020   \n",
       "3                        Algeria    1990       8746.340762    2020   \n",
       "4                         Angola    1990       5758.950488    2020   \n",
       "..                           ...     ...               ...     ...   \n",
       "200                      Vanuatu    1990       2855.554643    2020   \n",
       "201                      Vietnam    1990       2066.372215    2020   \n",
       "202                        World    1990       9704.621768    2020   \n",
       "203                       Zambia    1990       2190.181724    2020   \n",
       "204                     Zimbabwe    1990       2652.129209    2020   \n",
       "\n",
       "     GDP_Per_Capita_y  \n",
       "0         3491.978104  \n",
       "1         4021.293919  \n",
       "2        13253.733337  \n",
       "3        10735.382539  \n",
       "4         6141.963839  \n",
       "..                ...  \n",
       "200       2878.475335  \n",
       "201      10338.270543  \n",
       "202      16269.969854  \n",
       "203       3277.816510  \n",
       "204       2134.555461  \n",
       "\n",
       "[205 rows x 5 columns]"
      ]
     },
     "execution_count": 26,
     "metadata": {},
     "output_type": "execute_result"
    }
   ],
   "source": [
    "gdp_1990_2020 = pd.merge(gdp_1990, gdp_2020,\n",
    "                         left_on = 'Country', right_on = 'Country',\n",
    "                         how = 'inner')\n",
    "gdp_1990_2020"
   ]
  },
  {
   "cell_type": "code",
   "execution_count": 73,
   "id": "d28a2593",
   "metadata": {},
   "outputs": [
    {
     "data": {
      "text/html": [
       "<div>\n",
       "<style scoped>\n",
       "    .dataframe tbody tr th:only-of-type {\n",
       "        vertical-align: middle;\n",
       "    }\n",
       "\n",
       "    .dataframe tbody tr th {\n",
       "        vertical-align: top;\n",
       "    }\n",
       "\n",
       "    .dataframe thead th {\n",
       "        text-align: right;\n",
       "    }\n",
       "</style>\n",
       "<table border=\"1\" class=\"dataframe\">\n",
       "  <thead>\n",
       "    <tr style=\"text-align: right;\">\n",
       "      <th></th>\n",
       "      <th>gdp_percap_1990</th>\n",
       "      <th>gdp_percap_2020</th>\n",
       "    </tr>\n",
       "  </thead>\n",
       "  <tbody>\n",
       "    <tr>\n",
       "      <th>count</th>\n",
       "      <td>205.000000</td>\n",
       "      <td>205.000000</td>\n",
       "    </tr>\n",
       "    <tr>\n",
       "      <th>mean</th>\n",
       "      <td>12491.590446</td>\n",
       "      <td>18622.490464</td>\n",
       "    </tr>\n",
       "    <tr>\n",
       "      <th>std</th>\n",
       "      <td>15376.809408</td>\n",
       "      <td>19422.203643</td>\n",
       "    </tr>\n",
       "    <tr>\n",
       "      <th>min</th>\n",
       "      <td>471.325103</td>\n",
       "      <td>731.064074</td>\n",
       "    </tr>\n",
       "    <tr>\n",
       "      <th>25%</th>\n",
       "      <td>2880.571658</td>\n",
       "      <td>4726.196559</td>\n",
       "    </tr>\n",
       "    <tr>\n",
       "      <th>50%</th>\n",
       "      <td>5969.602710</td>\n",
       "      <td>12048.927741</td>\n",
       "    </tr>\n",
       "    <tr>\n",
       "      <th>75%</th>\n",
       "      <td>14202.793216</td>\n",
       "      <td>25389.812268</td>\n",
       "    </tr>\n",
       "    <tr>\n",
       "      <th>max</th>\n",
       "      <td>111454.055665</td>\n",
       "      <td>112557.309472</td>\n",
       "    </tr>\n",
       "  </tbody>\n",
       "</table>\n",
       "</div>"
      ],
      "text/plain": [
       "       gdp_percap_1990  gdp_percap_2020\n",
       "count       205.000000       205.000000\n",
       "mean      12491.590446     18622.490464\n",
       "std       15376.809408     19422.203643\n",
       "min         471.325103       731.064074\n",
       "25%        2880.571658      4726.196559\n",
       "50%        5969.602710     12048.927741\n",
       "75%       14202.793216     25389.812268\n",
       "max      111454.055665    112557.309472"
      ]
     },
     "execution_count": 73,
     "metadata": {},
     "output_type": "execute_result"
    }
   ],
   "source": [
    "gdp_1990_2020.describe()"
   ]
  },
  {
   "cell_type": "markdown",
   "id": "fd293850",
   "metadata": {},
   "source": [
    "# clean up the joined df"
   ]
  },
  {
   "cell_type": "code",
   "execution_count": 28,
   "id": "355b1c20",
   "metadata": {},
   "outputs": [
    {
     "data": {
      "text/html": [
       "<div>\n",
       "<style scoped>\n",
       "    .dataframe tbody tr th:only-of-type {\n",
       "        vertical-align: middle;\n",
       "    }\n",
       "\n",
       "    .dataframe tbody tr th {\n",
       "        vertical-align: top;\n",
       "    }\n",
       "\n",
       "    .dataframe thead th {\n",
       "        text-align: right;\n",
       "    }\n",
       "</style>\n",
       "<table border=\"1\" class=\"dataframe\">\n",
       "  <thead>\n",
       "    <tr style=\"text-align: right;\">\n",
       "      <th></th>\n",
       "      <th>Country</th>\n",
       "      <th>Year_x</th>\n",
       "      <th>gdp_percap_1990</th>\n",
       "      <th>Year_y</th>\n",
       "      <th>gdp_percap_2020</th>\n",
       "    </tr>\n",
       "  </thead>\n",
       "  <tbody>\n",
       "    <tr>\n",
       "      <th>0</th>\n",
       "      <td>Africa Eastern and Southern</td>\n",
       "      <td>1990</td>\n",
       "      <td>3083.976800</td>\n",
       "      <td>2020</td>\n",
       "      <td>3491.978104</td>\n",
       "    </tr>\n",
       "    <tr>\n",
       "      <th>1</th>\n",
       "      <td>Africa Western and Central</td>\n",
       "      <td>1990</td>\n",
       "      <td>2810.341129</td>\n",
       "      <td>2020</td>\n",
       "      <td>4021.293919</td>\n",
       "    </tr>\n",
       "    <tr>\n",
       "      <th>2</th>\n",
       "      <td>Albania</td>\n",
       "      <td>1990</td>\n",
       "      <td>4827.034551</td>\n",
       "      <td>2020</td>\n",
       "      <td>13253.733337</td>\n",
       "    </tr>\n",
       "    <tr>\n",
       "      <th>3</th>\n",
       "      <td>Algeria</td>\n",
       "      <td>1990</td>\n",
       "      <td>8746.340762</td>\n",
       "      <td>2020</td>\n",
       "      <td>10735.382539</td>\n",
       "    </tr>\n",
       "    <tr>\n",
       "      <th>4</th>\n",
       "      <td>Angola</td>\n",
       "      <td>1990</td>\n",
       "      <td>5758.950488</td>\n",
       "      <td>2020</td>\n",
       "      <td>6141.963839</td>\n",
       "    </tr>\n",
       "    <tr>\n",
       "      <th>...</th>\n",
       "      <td>...</td>\n",
       "      <td>...</td>\n",
       "      <td>...</td>\n",
       "      <td>...</td>\n",
       "      <td>...</td>\n",
       "    </tr>\n",
       "    <tr>\n",
       "      <th>200</th>\n",
       "      <td>Vanuatu</td>\n",
       "      <td>1990</td>\n",
       "      <td>2855.554643</td>\n",
       "      <td>2020</td>\n",
       "      <td>2878.475335</td>\n",
       "    </tr>\n",
       "    <tr>\n",
       "      <th>201</th>\n",
       "      <td>Vietnam</td>\n",
       "      <td>1990</td>\n",
       "      <td>2066.372215</td>\n",
       "      <td>2020</td>\n",
       "      <td>10338.270543</td>\n",
       "    </tr>\n",
       "    <tr>\n",
       "      <th>202</th>\n",
       "      <td>World</td>\n",
       "      <td>1990</td>\n",
       "      <td>9704.621768</td>\n",
       "      <td>2020</td>\n",
       "      <td>16269.969854</td>\n",
       "    </tr>\n",
       "    <tr>\n",
       "      <th>203</th>\n",
       "      <td>Zambia</td>\n",
       "      <td>1990</td>\n",
       "      <td>2190.181724</td>\n",
       "      <td>2020</td>\n",
       "      <td>3277.816510</td>\n",
       "    </tr>\n",
       "    <tr>\n",
       "      <th>204</th>\n",
       "      <td>Zimbabwe</td>\n",
       "      <td>1990</td>\n",
       "      <td>2652.129209</td>\n",
       "      <td>2020</td>\n",
       "      <td>2134.555461</td>\n",
       "    </tr>\n",
       "  </tbody>\n",
       "</table>\n",
       "<p>205 rows × 5 columns</p>\n",
       "</div>"
      ],
      "text/plain": [
       "                         Country  Year_x  gdp_percap_1990  Year_y  \\\n",
       "0    Africa Eastern and Southern    1990      3083.976800    2020   \n",
       "1     Africa Western and Central    1990      2810.341129    2020   \n",
       "2                        Albania    1990      4827.034551    2020   \n",
       "3                        Algeria    1990      8746.340762    2020   \n",
       "4                         Angola    1990      5758.950488    2020   \n",
       "..                           ...     ...              ...     ...   \n",
       "200                      Vanuatu    1990      2855.554643    2020   \n",
       "201                      Vietnam    1990      2066.372215    2020   \n",
       "202                        World    1990      9704.621768    2020   \n",
       "203                       Zambia    1990      2190.181724    2020   \n",
       "204                     Zimbabwe    1990      2652.129209    2020   \n",
       "\n",
       "     gdp_percap_2020  \n",
       "0        3491.978104  \n",
       "1        4021.293919  \n",
       "2       13253.733337  \n",
       "3       10735.382539  \n",
       "4        6141.963839  \n",
       "..               ...  \n",
       "200      2878.475335  \n",
       "201     10338.270543  \n",
       "202     16269.969854  \n",
       "203      3277.816510  \n",
       "204      2134.555461  \n",
       "\n",
       "[205 rows x 5 columns]"
      ]
     },
     "execution_count": 28,
     "metadata": {},
     "output_type": "execute_result"
    }
   ],
   "source": [
    "gdp_1990_2020 = gdp_1990_2020.rename(columns = {'GDP_Per_Capita_x' : 'gdp_percap_1990', \n",
    "                                                'GDP_Per_Capita_y' : 'gdp_percap_2020'})\n",
    "gdp_1990_2020"
   ]
  },
  {
   "cell_type": "markdown",
   "id": "5a40a0c5",
   "metadata": {},
   "source": [
    "#Drop year columns"
   ]
  },
  {
   "cell_type": "code",
   "execution_count": 29,
   "id": "3848e901",
   "metadata": {},
   "outputs": [
    {
     "data": {
      "text/html": [
       "<div>\n",
       "<style scoped>\n",
       "    .dataframe tbody tr th:only-of-type {\n",
       "        vertical-align: middle;\n",
       "    }\n",
       "\n",
       "    .dataframe tbody tr th {\n",
       "        vertical-align: top;\n",
       "    }\n",
       "\n",
       "    .dataframe thead th {\n",
       "        text-align: right;\n",
       "    }\n",
       "</style>\n",
       "<table border=\"1\" class=\"dataframe\">\n",
       "  <thead>\n",
       "    <tr style=\"text-align: right;\">\n",
       "      <th></th>\n",
       "      <th>Country</th>\n",
       "      <th>gdp_percap_1990</th>\n",
       "      <th>gdp_percap_2020</th>\n",
       "    </tr>\n",
       "  </thead>\n",
       "  <tbody>\n",
       "    <tr>\n",
       "      <th>0</th>\n",
       "      <td>Africa Eastern and Southern</td>\n",
       "      <td>3083.976800</td>\n",
       "      <td>3491.978104</td>\n",
       "    </tr>\n",
       "    <tr>\n",
       "      <th>1</th>\n",
       "      <td>Africa Western and Central</td>\n",
       "      <td>2810.341129</td>\n",
       "      <td>4021.293919</td>\n",
       "    </tr>\n",
       "    <tr>\n",
       "      <th>2</th>\n",
       "      <td>Albania</td>\n",
       "      <td>4827.034551</td>\n",
       "      <td>13253.733337</td>\n",
       "    </tr>\n",
       "    <tr>\n",
       "      <th>3</th>\n",
       "      <td>Algeria</td>\n",
       "      <td>8746.340762</td>\n",
       "      <td>10735.382539</td>\n",
       "    </tr>\n",
       "    <tr>\n",
       "      <th>4</th>\n",
       "      <td>Angola</td>\n",
       "      <td>5758.950488</td>\n",
       "      <td>6141.963839</td>\n",
       "    </tr>\n",
       "    <tr>\n",
       "      <th>...</th>\n",
       "      <td>...</td>\n",
       "      <td>...</td>\n",
       "      <td>...</td>\n",
       "    </tr>\n",
       "    <tr>\n",
       "      <th>200</th>\n",
       "      <td>Vanuatu</td>\n",
       "      <td>2855.554643</td>\n",
       "      <td>2878.475335</td>\n",
       "    </tr>\n",
       "    <tr>\n",
       "      <th>201</th>\n",
       "      <td>Vietnam</td>\n",
       "      <td>2066.372215</td>\n",
       "      <td>10338.270543</td>\n",
       "    </tr>\n",
       "    <tr>\n",
       "      <th>202</th>\n",
       "      <td>World</td>\n",
       "      <td>9704.621768</td>\n",
       "      <td>16269.969854</td>\n",
       "    </tr>\n",
       "    <tr>\n",
       "      <th>203</th>\n",
       "      <td>Zambia</td>\n",
       "      <td>2190.181724</td>\n",
       "      <td>3277.816510</td>\n",
       "    </tr>\n",
       "    <tr>\n",
       "      <th>204</th>\n",
       "      <td>Zimbabwe</td>\n",
       "      <td>2652.129209</td>\n",
       "      <td>2134.555461</td>\n",
       "    </tr>\n",
       "  </tbody>\n",
       "</table>\n",
       "<p>205 rows × 3 columns</p>\n",
       "</div>"
      ],
      "text/plain": [
       "                         Country  gdp_percap_1990  gdp_percap_2020\n",
       "0    Africa Eastern and Southern      3083.976800      3491.978104\n",
       "1     Africa Western and Central      2810.341129      4021.293919\n",
       "2                        Albania      4827.034551     13253.733337\n",
       "3                        Algeria      8746.340762     10735.382539\n",
       "4                         Angola      5758.950488      6141.963839\n",
       "..                           ...              ...              ...\n",
       "200                      Vanuatu      2855.554643      2878.475335\n",
       "201                      Vietnam      2066.372215     10338.270543\n",
       "202                        World      9704.621768     16269.969854\n",
       "203                       Zambia      2190.181724      3277.816510\n",
       "204                     Zimbabwe      2652.129209      2134.555461\n",
       "\n",
       "[205 rows x 3 columns]"
      ]
     },
     "execution_count": 29,
     "metadata": {},
     "output_type": "execute_result"
    }
   ],
   "source": [
    "gdp_1990_2020 = gdp_1990_2020.drop(columns = ['Year_x', 'Year_y'])\n",
    "gdp_1990_2020"
   ]
  },
  {
   "cell_type": "markdown",
   "id": "5566ea29",
   "metadata": {},
   "source": [
    "#.loc statement to find countries with "
   ]
  },
  {
   "cell_type": "code",
   "execution_count": 30,
   "id": "070a2242",
   "metadata": {},
   "outputs": [
    {
     "data": {
      "text/html": [
       "<div>\n",
       "<style scoped>\n",
       "    .dataframe tbody tr th:only-of-type {\n",
       "        vertical-align: middle;\n",
       "    }\n",
       "\n",
       "    .dataframe tbody tr th {\n",
       "        vertical-align: top;\n",
       "    }\n",
       "\n",
       "    .dataframe thead th {\n",
       "        text-align: right;\n",
       "    }\n",
       "</style>\n",
       "<table border=\"1\" class=\"dataframe\">\n",
       "  <thead>\n",
       "    <tr style=\"text-align: right;\">\n",
       "      <th></th>\n",
       "      <th>Country</th>\n",
       "      <th>gdp_percap_1990</th>\n",
       "      <th>gdp_percap_2020</th>\n",
       "    </tr>\n",
       "  </thead>\n",
       "  <tbody>\n",
       "    <tr>\n",
       "      <th>9</th>\n",
       "      <td>Aruba</td>\n",
       "      <td>32589.018572</td>\n",
       "      <td>29563.756955</td>\n",
       "    </tr>\n",
       "    <tr>\n",
       "      <th>15</th>\n",
       "      <td>Barbados</td>\n",
       "      <td>13985.829980</td>\n",
       "      <td>13316.487393</td>\n",
       "    </tr>\n",
       "    <tr>\n",
       "      <th>25</th>\n",
       "      <td>Brunei</td>\n",
       "      <td>71232.789430</td>\n",
       "      <td>62200.882043</td>\n",
       "    </tr>\n",
       "    <tr>\n",
       "      <th>28</th>\n",
       "      <td>Burundi</td>\n",
       "      <td>1184.842032</td>\n",
       "      <td>731.064074</td>\n",
       "    </tr>\n",
       "    <tr>\n",
       "      <th>33</th>\n",
       "      <td>Central African Republic</td>\n",
       "      <td>1201.674665</td>\n",
       "      <td>937.856470</td>\n",
       "    </tr>\n",
       "    <tr>\n",
       "      <th>39</th>\n",
       "      <td>Comoros</td>\n",
       "      <td>3061.328732</td>\n",
       "      <td>2984.413403</td>\n",
       "    </tr>\n",
       "    <tr>\n",
       "      <th>40</th>\n",
       "      <td>Congo</td>\n",
       "      <td>5068.286948</td>\n",
       "      <td>3497.565454</td>\n",
       "    </tr>\n",
       "    <tr>\n",
       "      <th>44</th>\n",
       "      <td>Dem. Rep. Congo</td>\n",
       "      <td>1819.723315</td>\n",
       "      <td>1082.445242</td>\n",
       "    </tr>\n",
       "    <tr>\n",
       "      <th>65</th>\n",
       "      <td>Fragile and conflict affected situations</td>\n",
       "      <td>4874.531032</td>\n",
       "      <td>4450.512739</td>\n",
       "    </tr>\n",
       "    <tr>\n",
       "      <th>67</th>\n",
       "      <td>Gabon</td>\n",
       "      <td>18179.170002</td>\n",
       "      <td>14320.844646</td>\n",
       "    </tr>\n",
       "    <tr>\n",
       "      <th>75</th>\n",
       "      <td>Guinea-Bissau</td>\n",
       "      <td>1994.661475</td>\n",
       "      <td>1847.465824</td>\n",
       "    </tr>\n",
       "    <tr>\n",
       "      <th>77</th>\n",
       "      <td>Haiti</td>\n",
       "      <td>3541.410107</td>\n",
       "      <td>2934.245881</td>\n",
       "    </tr>\n",
       "    <tr>\n",
       "      <th>98</th>\n",
       "      <td>Kiribati</td>\n",
       "      <td>2122.363571</td>\n",
       "      <td>2059.100089</td>\n",
       "    </tr>\n",
       "    <tr>\n",
       "      <th>100</th>\n",
       "      <td>Kyrgyz Republic</td>\n",
       "      <td>5158.317569</td>\n",
       "      <td>4726.196559</td>\n",
       "    </tr>\n",
       "    <tr>\n",
       "      <th>114</th>\n",
       "      <td>Madagascar</td>\n",
       "      <td>1853.049669</td>\n",
       "      <td>1463.787723</td>\n",
       "    </tr>\n",
       "    <tr>\n",
       "      <th>143</th>\n",
       "      <td>Oman</td>\n",
       "      <td>30333.874281</td>\n",
       "      <td>29502.059669</td>\n",
       "    </tr>\n",
       "    <tr>\n",
       "      <th>182</th>\n",
       "      <td>Tajikistan</td>\n",
       "      <td>4092.148779</td>\n",
       "      <td>3654.072934</td>\n",
       "    </tr>\n",
       "    <tr>\n",
       "      <th>185</th>\n",
       "      <td>The Bahamas</td>\n",
       "      <td>38073.864915</td>\n",
       "      <td>27555.657353</td>\n",
       "    </tr>\n",
       "    <tr>\n",
       "      <th>186</th>\n",
       "      <td>The Gambia</td>\n",
       "      <td>2265.233478</td>\n",
       "      <td>2158.442317</td>\n",
       "    </tr>\n",
       "    <tr>\n",
       "      <th>193</th>\n",
       "      <td>Ukraine</td>\n",
       "      <td>16428.480469</td>\n",
       "      <td>12407.790039</td>\n",
       "    </tr>\n",
       "    <tr>\n",
       "      <th>194</th>\n",
       "      <td>United Arab Emirates</td>\n",
       "      <td>111454.055665</td>\n",
       "      <td>63299.422971</td>\n",
       "    </tr>\n",
       "    <tr>\n",
       "      <th>204</th>\n",
       "      <td>Zimbabwe</td>\n",
       "      <td>2652.129209</td>\n",
       "      <td>2134.555461</td>\n",
       "    </tr>\n",
       "  </tbody>\n",
       "</table>\n",
       "</div>"
      ],
      "text/plain": [
       "                                      Country  gdp_percap_1990  \\\n",
       "9                                       Aruba     32589.018572   \n",
       "15                                   Barbados     13985.829980   \n",
       "25                                     Brunei     71232.789430   \n",
       "28                                    Burundi      1184.842032   \n",
       "33                   Central African Republic      1201.674665   \n",
       "39                                    Comoros      3061.328732   \n",
       "40                                      Congo      5068.286948   \n",
       "44                            Dem. Rep. Congo      1819.723315   \n",
       "65   Fragile and conflict affected situations      4874.531032   \n",
       "67                                      Gabon     18179.170002   \n",
       "75                              Guinea-Bissau      1994.661475   \n",
       "77                                      Haiti      3541.410107   \n",
       "98                                   Kiribati      2122.363571   \n",
       "100                           Kyrgyz Republic      5158.317569   \n",
       "114                                Madagascar      1853.049669   \n",
       "143                                      Oman     30333.874281   \n",
       "182                                Tajikistan      4092.148779   \n",
       "185                               The Bahamas     38073.864915   \n",
       "186                                The Gambia      2265.233478   \n",
       "193                                   Ukraine     16428.480469   \n",
       "194                      United Arab Emirates    111454.055665   \n",
       "204                                  Zimbabwe      2652.129209   \n",
       "\n",
       "     gdp_percap_2020  \n",
       "9       29563.756955  \n",
       "15      13316.487393  \n",
       "25      62200.882043  \n",
       "28        731.064074  \n",
       "33        937.856470  \n",
       "39       2984.413403  \n",
       "40       3497.565454  \n",
       "44       1082.445242  \n",
       "65       4450.512739  \n",
       "67      14320.844646  \n",
       "75       1847.465824  \n",
       "77       2934.245881  \n",
       "98       2059.100089  \n",
       "100      4726.196559  \n",
       "114      1463.787723  \n",
       "143     29502.059669  \n",
       "182      3654.072934  \n",
       "185     27555.657353  \n",
       "186      2158.442317  \n",
       "193     12407.790039  \n",
       "194     63299.422971  \n",
       "204      2134.555461  "
      ]
     },
     "execution_count": 30,
     "metadata": {},
     "output_type": "execute_result"
    }
   ],
   "source": [
    "decrease_gdp = gdp_1990_2020.loc[gdp_1990_2020['gdp_percap_1990'] > gdp_1990_2020['gdp_percap_2020']]\n",
    "decrease_gdp"
   ]
  },
  {
   "cell_type": "code",
   "execution_count": 31,
   "id": "7af98300",
   "metadata": {},
   "outputs": [
    {
     "data": {
      "text/plain": [
       "(22, 3)"
      ]
     },
     "execution_count": 31,
     "metadata": {},
     "output_type": "execute_result"
    }
   ],
   "source": [
    "decrease_gdp.shape"
   ]
  },
  {
   "cell_type": "markdown",
   "id": "d0414e6e",
   "metadata": {},
   "source": [
    "# 14. Read in the internet use dataset into a DataFrame named `internet_df`. You will likely get errors when doing this. Check the arguments for the read_csv function to find ones that can help correct the errors (https://pandas.pydata.org/docs/reference/api/pandas.read_csv.html) Once you are able to read it in, take per a look at the top and bottom few rows to make sure that it has been read in correctly. Also, check the datatypes of the columns."
   ]
  },
  {
   "cell_type": "markdown",
   "id": "25a356aa",
   "metadata": {},
   "source": [
    "#importing internet_df file"
   ]
  },
  {
   "cell_type": "code",
   "execution_count": 32,
   "id": "21a63848",
   "metadata": {},
   "outputs": [],
   "source": [
    "internet_df = pd.read_csv(\n",
    "    r\"C:\\Users\\hunte\\Documents\\NNS-DDA10\\python\\projects\\un_data-hunterfogg668\\data\\internet_use.csv.csv\",\n",
    "     nrows = 4495)"
   ]
  },
  {
   "cell_type": "code",
   "execution_count": 33,
   "id": "17ffa1ec",
   "metadata": {},
   "outputs": [
    {
     "data": {
      "text/html": [
       "<div>\n",
       "<style scoped>\n",
       "    .dataframe tbody tr th:only-of-type {\n",
       "        vertical-align: middle;\n",
       "    }\n",
       "\n",
       "    .dataframe tbody tr th {\n",
       "        vertical-align: top;\n",
       "    }\n",
       "\n",
       "    .dataframe thead th {\n",
       "        text-align: right;\n",
       "    }\n",
       "</style>\n",
       "<table border=\"1\" class=\"dataframe\">\n",
       "  <thead>\n",
       "    <tr style=\"text-align: right;\">\n",
       "      <th></th>\n",
       "      <th>Country or Area</th>\n",
       "      <th>Year</th>\n",
       "      <th>Value</th>\n",
       "      <th>Value Footnotes</th>\n",
       "    </tr>\n",
       "  </thead>\n",
       "  <tbody>\n",
       "    <tr>\n",
       "      <th>4490</th>\n",
       "      <td>Zimbabwe</td>\n",
       "      <td>1997</td>\n",
       "      <td>0.033080</td>\n",
       "      <td>NaN</td>\n",
       "    </tr>\n",
       "    <tr>\n",
       "      <th>4491</th>\n",
       "      <td>Zimbabwe</td>\n",
       "      <td>1996</td>\n",
       "      <td>0.016790</td>\n",
       "      <td>NaN</td>\n",
       "    </tr>\n",
       "    <tr>\n",
       "      <th>4492</th>\n",
       "      <td>Zimbabwe</td>\n",
       "      <td>1995</td>\n",
       "      <td>0.007684</td>\n",
       "      <td>NaN</td>\n",
       "    </tr>\n",
       "    <tr>\n",
       "      <th>4493</th>\n",
       "      <td>Zimbabwe</td>\n",
       "      <td>1994</td>\n",
       "      <td>0.001739</td>\n",
       "      <td>NaN</td>\n",
       "    </tr>\n",
       "    <tr>\n",
       "      <th>4494</th>\n",
       "      <td>Zimbabwe</td>\n",
       "      <td>1990</td>\n",
       "      <td>0.000000</td>\n",
       "      <td>NaN</td>\n",
       "    </tr>\n",
       "  </tbody>\n",
       "</table>\n",
       "</div>"
      ],
      "text/plain": [
       "     Country or Area  Year     Value  Value Footnotes\n",
       "4490        Zimbabwe  1997  0.033080              NaN\n",
       "4491        Zimbabwe  1996  0.016790              NaN\n",
       "4492        Zimbabwe  1995  0.007684              NaN\n",
       "4493        Zimbabwe  1994  0.001739              NaN\n",
       "4494        Zimbabwe  1990  0.000000              NaN"
      ]
     },
     "execution_count": 33,
     "metadata": {},
     "output_type": "execute_result"
    }
   ],
   "source": [
    "internet_df.tail()"
   ]
  },
  {
   "cell_type": "markdown",
   "id": "91cac3d1",
   "metadata": {},
   "source": [
    "# 15. Drop the `Value Footnotes` column and rename the remaining three to 'Country', 'Year', and 'Internet_Users_Pct'."
   ]
  },
  {
   "cell_type": "code",
   "execution_count": 34,
   "id": "e60d34e5",
   "metadata": {},
   "outputs": [],
   "source": [
    "internet_df = internet_df.drop(columns = ['Value Footnotes'])"
   ]
  },
  {
   "cell_type": "code",
   "execution_count": 35,
   "id": "e4adc179",
   "metadata": {},
   "outputs": [
    {
     "data": {
      "text/html": [
       "<div>\n",
       "<style scoped>\n",
       "    .dataframe tbody tr th:only-of-type {\n",
       "        vertical-align: middle;\n",
       "    }\n",
       "\n",
       "    .dataframe tbody tr th {\n",
       "        vertical-align: top;\n",
       "    }\n",
       "\n",
       "    .dataframe thead th {\n",
       "        text-align: right;\n",
       "    }\n",
       "</style>\n",
       "<table border=\"1\" class=\"dataframe\">\n",
       "  <thead>\n",
       "    <tr style=\"text-align: right;\">\n",
       "      <th></th>\n",
       "      <th>Country or Area</th>\n",
       "      <th>Year</th>\n",
       "      <th>Value</th>\n",
       "    </tr>\n",
       "  </thead>\n",
       "  <tbody>\n",
       "    <tr>\n",
       "      <th>0</th>\n",
       "      <td>Afghanistan</td>\n",
       "      <td>2014</td>\n",
       "      <td>6.390000</td>\n",
       "    </tr>\n",
       "    <tr>\n",
       "      <th>1</th>\n",
       "      <td>Afghanistan</td>\n",
       "      <td>2013</td>\n",
       "      <td>5.900000</td>\n",
       "    </tr>\n",
       "    <tr>\n",
       "      <th>2</th>\n",
       "      <td>Afghanistan</td>\n",
       "      <td>2012</td>\n",
       "      <td>5.454545</td>\n",
       "    </tr>\n",
       "    <tr>\n",
       "      <th>3</th>\n",
       "      <td>Afghanistan</td>\n",
       "      <td>2011</td>\n",
       "      <td>5.000000</td>\n",
       "    </tr>\n",
       "    <tr>\n",
       "      <th>4</th>\n",
       "      <td>Afghanistan</td>\n",
       "      <td>2010</td>\n",
       "      <td>4.000000</td>\n",
       "    </tr>\n",
       "  </tbody>\n",
       "</table>\n",
       "</div>"
      ],
      "text/plain": [
       "  Country or Area  Year     Value\n",
       "0     Afghanistan  2014  6.390000\n",
       "1     Afghanistan  2013  5.900000\n",
       "2     Afghanistan  2012  5.454545\n",
       "3     Afghanistan  2011  5.000000\n",
       "4     Afghanistan  2010  4.000000"
      ]
     },
     "execution_count": 35,
     "metadata": {},
     "output_type": "execute_result"
    }
   ],
   "source": [
    "internet_df.head()"
   ]
  },
  {
   "cell_type": "code",
   "execution_count": 36,
   "id": "f349058d",
   "metadata": {},
   "outputs": [],
   "source": [
    "internet_df = internet_df.rename(columns = {'Country or Area' : 'Country',\n",
    "                                            'Year' : 'Year',\n",
    "                                            'Value' : 'Internet_Users_Pct'})"
   ]
  },
  {
   "cell_type": "code",
   "execution_count": 37,
   "id": "206b03a3",
   "metadata": {},
   "outputs": [
    {
     "data": {
      "text/html": [
       "<div>\n",
       "<style scoped>\n",
       "    .dataframe tbody tr th:only-of-type {\n",
       "        vertical-align: middle;\n",
       "    }\n",
       "\n",
       "    .dataframe tbody tr th {\n",
       "        vertical-align: top;\n",
       "    }\n",
       "\n",
       "    .dataframe thead th {\n",
       "        text-align: right;\n",
       "    }\n",
       "</style>\n",
       "<table border=\"1\" class=\"dataframe\">\n",
       "  <thead>\n",
       "    <tr style=\"text-align: right;\">\n",
       "      <th></th>\n",
       "      <th>Country</th>\n",
       "      <th>Year</th>\n",
       "      <th>Internet_Users_Pct</th>\n",
       "    </tr>\n",
       "  </thead>\n",
       "  <tbody>\n",
       "    <tr>\n",
       "      <th>0</th>\n",
       "      <td>Afghanistan</td>\n",
       "      <td>2014</td>\n",
       "      <td>6.390000</td>\n",
       "    </tr>\n",
       "    <tr>\n",
       "      <th>1</th>\n",
       "      <td>Afghanistan</td>\n",
       "      <td>2013</td>\n",
       "      <td>5.900000</td>\n",
       "    </tr>\n",
       "    <tr>\n",
       "      <th>2</th>\n",
       "      <td>Afghanistan</td>\n",
       "      <td>2012</td>\n",
       "      <td>5.454545</td>\n",
       "    </tr>\n",
       "    <tr>\n",
       "      <th>3</th>\n",
       "      <td>Afghanistan</td>\n",
       "      <td>2011</td>\n",
       "      <td>5.000000</td>\n",
       "    </tr>\n",
       "    <tr>\n",
       "      <th>4</th>\n",
       "      <td>Afghanistan</td>\n",
       "      <td>2010</td>\n",
       "      <td>4.000000</td>\n",
       "    </tr>\n",
       "  </tbody>\n",
       "</table>\n",
       "</div>"
      ],
      "text/plain": [
       "       Country  Year  Internet_Users_Pct\n",
       "0  Afghanistan  2014            6.390000\n",
       "1  Afghanistan  2013            5.900000\n",
       "2  Afghanistan  2012            5.454545\n",
       "3  Afghanistan  2011            5.000000\n",
       "4  Afghanistan  2010            4.000000"
      ]
     },
     "execution_count": 37,
     "metadata": {},
     "output_type": "execute_result"
    }
   ],
   "source": [
    "internet_df.head()"
   ]
  },
  {
   "cell_type": "markdown",
   "id": "c00c331c",
   "metadata": {},
   "source": [
    "# 16. Look at the number of observations in this dataset per year. What do you notice?"
   ]
  },
  {
   "cell_type": "code",
   "execution_count": 38,
   "id": "f5386fee",
   "metadata": {},
   "outputs": [],
   "source": [
    "year_internet = internet_df.Year.value_counts()"
   ]
  },
  {
   "cell_type": "code",
   "execution_count": 39,
   "id": "469a63a5",
   "metadata": {},
   "outputs": [],
   "source": [
    "year_internet = year_internet.to_frame()"
   ]
  },
  {
   "cell_type": "markdown",
   "id": "0824088b",
   "metadata": {},
   "source": [
    "# Convert year_internet to dataframe"
   ]
  },
  {
   "cell_type": "code",
   "execution_count": 40,
   "id": "8e712531",
   "metadata": {},
   "outputs": [
    {
     "data": {
      "text/html": [
       "<div>\n",
       "<style scoped>\n",
       "    .dataframe tbody tr th:only-of-type {\n",
       "        vertical-align: middle;\n",
       "    }\n",
       "\n",
       "    .dataframe tbody tr th {\n",
       "        vertical-align: top;\n",
       "    }\n",
       "\n",
       "    .dataframe thead th {\n",
       "        text-align: right;\n",
       "    }\n",
       "</style>\n",
       "<table border=\"1\" class=\"dataframe\">\n",
       "  <thead>\n",
       "    <tr style=\"text-align: right;\">\n",
       "      <th></th>\n",
       "      <th>index</th>\n",
       "      <th>Year</th>\n",
       "    </tr>\n",
       "  </thead>\n",
       "  <tbody>\n",
       "    <tr>\n",
       "      <th>0</th>\n",
       "      <td>1990</td>\n",
       "      <td>210</td>\n",
       "    </tr>\n",
       "    <tr>\n",
       "      <th>1</th>\n",
       "      <td>2011</td>\n",
       "      <td>207</td>\n",
       "    </tr>\n",
       "    <tr>\n",
       "      <th>2</th>\n",
       "      <td>2007</td>\n",
       "      <td>206</td>\n",
       "    </tr>\n",
       "    <tr>\n",
       "      <th>3</th>\n",
       "      <td>2008</td>\n",
       "      <td>204</td>\n",
       "    </tr>\n",
       "    <tr>\n",
       "      <th>4</th>\n",
       "      <td>2012</td>\n",
       "      <td>203</td>\n",
       "    </tr>\n",
       "  </tbody>\n",
       "</table>\n",
       "</div>"
      ],
      "text/plain": [
       "   index  Year\n",
       "0   1990   210\n",
       "1   2011   207\n",
       "2   2007   206\n",
       "3   2008   204\n",
       "4   2012   203"
      ]
     },
     "execution_count": 40,
     "metadata": {},
     "output_type": "execute_result"
    }
   ],
   "source": [
    "year_internet = year_internet.reset_index()\n",
    "year_internet.head()"
   ]
  },
  {
   "cell_type": "code",
   "execution_count": 41,
   "id": "a0cd5ce7",
   "metadata": {},
   "outputs": [
    {
     "data": {
      "text/html": [
       "<div>\n",
       "<style scoped>\n",
       "    .dataframe tbody tr th:only-of-type {\n",
       "        vertical-align: middle;\n",
       "    }\n",
       "\n",
       "    .dataframe tbody tr th {\n",
       "        vertical-align: top;\n",
       "    }\n",
       "\n",
       "    .dataframe thead th {\n",
       "        text-align: right;\n",
       "    }\n",
       "</style>\n",
       "<table border=\"1\" class=\"dataframe\">\n",
       "  <thead>\n",
       "    <tr style=\"text-align: right;\">\n",
       "      <th></th>\n",
       "      <th>Year</th>\n",
       "      <th>Observations</th>\n",
       "    </tr>\n",
       "  </thead>\n",
       "  <tbody>\n",
       "    <tr>\n",
       "      <th>0</th>\n",
       "      <td>1990</td>\n",
       "      <td>210</td>\n",
       "    </tr>\n",
       "    <tr>\n",
       "      <th>1</th>\n",
       "      <td>2011</td>\n",
       "      <td>207</td>\n",
       "    </tr>\n",
       "    <tr>\n",
       "      <th>2</th>\n",
       "      <td>2007</td>\n",
       "      <td>206</td>\n",
       "    </tr>\n",
       "    <tr>\n",
       "      <th>3</th>\n",
       "      <td>2008</td>\n",
       "      <td>204</td>\n",
       "    </tr>\n",
       "    <tr>\n",
       "      <th>4</th>\n",
       "      <td>2012</td>\n",
       "      <td>203</td>\n",
       "    </tr>\n",
       "  </tbody>\n",
       "</table>\n",
       "</div>"
      ],
      "text/plain": [
       "   Year  Observations\n",
       "0  1990           210\n",
       "1  2011           207\n",
       "2  2007           206\n",
       "3  2008           204\n",
       "4  2012           203"
      ]
     },
     "execution_count": 41,
     "metadata": {},
     "output_type": "execute_result"
    }
   ],
   "source": [
    "year_internet = year_internet.rename(columns = {'index' : 'Year', 'Year' : 'Observations'})\n",
    "year_internet.head()"
   ]
  },
  {
   "cell_type": "markdown",
   "id": "9463e5d8",
   "metadata": {},
   "source": [
    "# reset and sort"
   ]
  },
  {
   "cell_type": "code",
   "execution_count": 42,
   "id": "a8ec36a1",
   "metadata": {},
   "outputs": [
    {
     "data": {
      "text/html": [
       "<div>\n",
       "<style scoped>\n",
       "    .dataframe tbody tr th:only-of-type {\n",
       "        vertical-align: middle;\n",
       "    }\n",
       "\n",
       "    .dataframe tbody tr th {\n",
       "        vertical-align: top;\n",
       "    }\n",
       "\n",
       "    .dataframe thead th {\n",
       "        text-align: right;\n",
       "    }\n",
       "</style>\n",
       "<table border=\"1\" class=\"dataframe\">\n",
       "  <thead>\n",
       "    <tr style=\"text-align: right;\">\n",
       "      <th></th>\n",
       "      <th>Year</th>\n",
       "      <th>Observations</th>\n",
       "    </tr>\n",
       "  </thead>\n",
       "  <tbody>\n",
       "    <tr>\n",
       "      <th>7</th>\n",
       "      <td>2014</td>\n",
       "      <td>202</td>\n",
       "    </tr>\n",
       "    <tr>\n",
       "      <th>8</th>\n",
       "      <td>2013</td>\n",
       "      <td>202</td>\n",
       "    </tr>\n",
       "    <tr>\n",
       "      <th>4</th>\n",
       "      <td>2012</td>\n",
       "      <td>203</td>\n",
       "    </tr>\n",
       "    <tr>\n",
       "      <th>1</th>\n",
       "      <td>2011</td>\n",
       "      <td>207</td>\n",
       "    </tr>\n",
       "    <tr>\n",
       "      <th>5</th>\n",
       "      <td>2010</td>\n",
       "      <td>203</td>\n",
       "    </tr>\n",
       "    <tr>\n",
       "      <th>6</th>\n",
       "      <td>2009</td>\n",
       "      <td>203</td>\n",
       "    </tr>\n",
       "    <tr>\n",
       "      <th>3</th>\n",
       "      <td>2008</td>\n",
       "      <td>204</td>\n",
       "    </tr>\n",
       "    <tr>\n",
       "      <th>2</th>\n",
       "      <td>2007</td>\n",
       "      <td>206</td>\n",
       "    </tr>\n",
       "    <tr>\n",
       "      <th>12</th>\n",
       "      <td>2006</td>\n",
       "      <td>200</td>\n",
       "    </tr>\n",
       "    <tr>\n",
       "      <th>10</th>\n",
       "      <td>2005</td>\n",
       "      <td>201</td>\n",
       "    </tr>\n",
       "    <tr>\n",
       "      <th>14</th>\n",
       "      <td>2004</td>\n",
       "      <td>199</td>\n",
       "    </tr>\n",
       "    <tr>\n",
       "      <th>16</th>\n",
       "      <td>2003</td>\n",
       "      <td>196</td>\n",
       "    </tr>\n",
       "    <tr>\n",
       "      <th>9</th>\n",
       "      <td>2002</td>\n",
       "      <td>202</td>\n",
       "    </tr>\n",
       "    <tr>\n",
       "      <th>11</th>\n",
       "      <td>2001</td>\n",
       "      <td>201</td>\n",
       "    </tr>\n",
       "    <tr>\n",
       "      <th>13</th>\n",
       "      <td>2000</td>\n",
       "      <td>199</td>\n",
       "    </tr>\n",
       "    <tr>\n",
       "      <th>15</th>\n",
       "      <td>1999</td>\n",
       "      <td>198</td>\n",
       "    </tr>\n",
       "    <tr>\n",
       "      <th>17</th>\n",
       "      <td>1998</td>\n",
       "      <td>190</td>\n",
       "    </tr>\n",
       "    <tr>\n",
       "      <th>18</th>\n",
       "      <td>1997</td>\n",
       "      <td>184</td>\n",
       "    </tr>\n",
       "    <tr>\n",
       "      <th>19</th>\n",
       "      <td>1996</td>\n",
       "      <td>175</td>\n",
       "    </tr>\n",
       "    <tr>\n",
       "      <th>20</th>\n",
       "      <td>1995</td>\n",
       "      <td>138</td>\n",
       "    </tr>\n",
       "    <tr>\n",
       "      <th>21</th>\n",
       "      <td>1994</td>\n",
       "      <td>91</td>\n",
       "    </tr>\n",
       "    <tr>\n",
       "      <th>22</th>\n",
       "      <td>1993</td>\n",
       "      <td>65</td>\n",
       "    </tr>\n",
       "    <tr>\n",
       "      <th>23</th>\n",
       "      <td>1992</td>\n",
       "      <td>50</td>\n",
       "    </tr>\n",
       "    <tr>\n",
       "      <th>24</th>\n",
       "      <td>1991</td>\n",
       "      <td>39</td>\n",
       "    </tr>\n",
       "    <tr>\n",
       "      <th>0</th>\n",
       "      <td>1990</td>\n",
       "      <td>210</td>\n",
       "    </tr>\n",
       "    <tr>\n",
       "      <th>25</th>\n",
       "      <td>1989</td>\n",
       "      <td>8</td>\n",
       "    </tr>\n",
       "    <tr>\n",
       "      <th>41</th>\n",
       "      <td>1988</td>\n",
       "      <td>7</td>\n",
       "    </tr>\n",
       "    <tr>\n",
       "      <th>40</th>\n",
       "      <td>1987</td>\n",
       "      <td>7</td>\n",
       "    </tr>\n",
       "    <tr>\n",
       "      <th>39</th>\n",
       "      <td>1986</td>\n",
       "      <td>7</td>\n",
       "    </tr>\n",
       "    <tr>\n",
       "      <th>38</th>\n",
       "      <td>1985</td>\n",
       "      <td>7</td>\n",
       "    </tr>\n",
       "    <tr>\n",
       "      <th>37</th>\n",
       "      <td>1984</td>\n",
       "      <td>7</td>\n",
       "    </tr>\n",
       "    <tr>\n",
       "      <th>36</th>\n",
       "      <td>1983</td>\n",
       "      <td>7</td>\n",
       "    </tr>\n",
       "    <tr>\n",
       "      <th>34</th>\n",
       "      <td>1982</td>\n",
       "      <td>7</td>\n",
       "    </tr>\n",
       "    <tr>\n",
       "      <th>35</th>\n",
       "      <td>1981</td>\n",
       "      <td>7</td>\n",
       "    </tr>\n",
       "    <tr>\n",
       "      <th>26</th>\n",
       "      <td>1980</td>\n",
       "      <td>7</td>\n",
       "    </tr>\n",
       "    <tr>\n",
       "      <th>33</th>\n",
       "      <td>1979</td>\n",
       "      <td>7</td>\n",
       "    </tr>\n",
       "    <tr>\n",
       "      <th>32</th>\n",
       "      <td>1978</td>\n",
       "      <td>7</td>\n",
       "    </tr>\n",
       "    <tr>\n",
       "      <th>31</th>\n",
       "      <td>1977</td>\n",
       "      <td>7</td>\n",
       "    </tr>\n",
       "    <tr>\n",
       "      <th>30</th>\n",
       "      <td>1976</td>\n",
       "      <td>7</td>\n",
       "    </tr>\n",
       "    <tr>\n",
       "      <th>29</th>\n",
       "      <td>1975</td>\n",
       "      <td>7</td>\n",
       "    </tr>\n",
       "    <tr>\n",
       "      <th>28</th>\n",
       "      <td>1970</td>\n",
       "      <td>7</td>\n",
       "    </tr>\n",
       "    <tr>\n",
       "      <th>27</th>\n",
       "      <td>1965</td>\n",
       "      <td>7</td>\n",
       "    </tr>\n",
       "    <tr>\n",
       "      <th>42</th>\n",
       "      <td>1960</td>\n",
       "      <td>7</td>\n",
       "    </tr>\n",
       "  </tbody>\n",
       "</table>\n",
       "</div>"
      ],
      "text/plain": [
       "    Year  Observations\n",
       "7   2014           202\n",
       "8   2013           202\n",
       "4   2012           203\n",
       "1   2011           207\n",
       "5   2010           203\n",
       "6   2009           203\n",
       "3   2008           204\n",
       "2   2007           206\n",
       "12  2006           200\n",
       "10  2005           201\n",
       "14  2004           199\n",
       "16  2003           196\n",
       "9   2002           202\n",
       "11  2001           201\n",
       "13  2000           199\n",
       "15  1999           198\n",
       "17  1998           190\n",
       "18  1997           184\n",
       "19  1996           175\n",
       "20  1995           138\n",
       "21  1994            91\n",
       "22  1993            65\n",
       "23  1992            50\n",
       "24  1991            39\n",
       "0   1990           210\n",
       "25  1989             8\n",
       "41  1988             7\n",
       "40  1987             7\n",
       "39  1986             7\n",
       "38  1985             7\n",
       "37  1984             7\n",
       "36  1983             7\n",
       "34  1982             7\n",
       "35  1981             7\n",
       "26  1980             7\n",
       "33  1979             7\n",
       "32  1978             7\n",
       "31  1977             7\n",
       "30  1976             7\n",
       "29  1975             7\n",
       "28  1970             7\n",
       "27  1965             7\n",
       "42  1960             7"
      ]
     },
     "execution_count": 42,
     "metadata": {},
     "output_type": "execute_result"
    }
   ],
   "source": [
    "year_internet.sort_values(by = ['Year'], ascending = False)"
   ]
  },
  {
   "cell_type": "markdown",
   "id": "8b37edd9",
   "metadata": {},
   "source": [
    "#observations trail off before 1995 but spike at 1990"
   ]
  },
  {
   "cell_type": "markdown",
   "id": "4431241d",
   "metadata": {},
   "source": [
    "# 17. What is the first year to have a non-zero internet users percentage value? 1990"
   ]
  },
  {
   "cell_type": "code",
   "execution_count": 43,
   "id": "15052964",
   "metadata": {},
   "outputs": [
    {
     "data": {
      "text/html": [
       "<div>\n",
       "<style scoped>\n",
       "    .dataframe tbody tr th:only-of-type {\n",
       "        vertical-align: middle;\n",
       "    }\n",
       "\n",
       "    .dataframe tbody tr th {\n",
       "        vertical-align: top;\n",
       "    }\n",
       "\n",
       "    .dataframe thead th {\n",
       "        text-align: right;\n",
       "    }\n",
       "</style>\n",
       "<table border=\"1\" class=\"dataframe\">\n",
       "  <thead>\n",
       "    <tr style=\"text-align: right;\">\n",
       "      <th></th>\n",
       "      <th>Country</th>\n",
       "      <th>Year</th>\n",
       "      <th>Internet_Users_Pct</th>\n",
       "    </tr>\n",
       "  </thead>\n",
       "  <tbody>\n",
       "    <tr>\n",
       "      <th>0</th>\n",
       "      <td>Afghanistan</td>\n",
       "      <td>2014</td>\n",
       "      <td>6.390000</td>\n",
       "    </tr>\n",
       "    <tr>\n",
       "      <th>1</th>\n",
       "      <td>Afghanistan</td>\n",
       "      <td>2013</td>\n",
       "      <td>5.900000</td>\n",
       "    </tr>\n",
       "    <tr>\n",
       "      <th>2</th>\n",
       "      <td>Afghanistan</td>\n",
       "      <td>2012</td>\n",
       "      <td>5.454545</td>\n",
       "    </tr>\n",
       "    <tr>\n",
       "      <th>3</th>\n",
       "      <td>Afghanistan</td>\n",
       "      <td>2011</td>\n",
       "      <td>5.000000</td>\n",
       "    </tr>\n",
       "    <tr>\n",
       "      <th>4</th>\n",
       "      <td>Afghanistan</td>\n",
       "      <td>2010</td>\n",
       "      <td>4.000000</td>\n",
       "    </tr>\n",
       "  </tbody>\n",
       "</table>\n",
       "</div>"
      ],
      "text/plain": [
       "       Country  Year  Internet_Users_Pct\n",
       "0  Afghanistan  2014            6.390000\n",
       "1  Afghanistan  2013            5.900000\n",
       "2  Afghanistan  2012            5.454545\n",
       "3  Afghanistan  2011            5.000000\n",
       "4  Afghanistan  2010            4.000000"
      ]
     },
     "execution_count": 43,
     "metadata": {},
     "output_type": "execute_result"
    }
   ],
   "source": [
    "internet_df.head()"
   ]
  },
  {
   "cell_type": "code",
   "execution_count": 44,
   "id": "e66b55a5",
   "metadata": {},
   "outputs": [
    {
     "data": {
      "text/html": [
       "<div>\n",
       "<style scoped>\n",
       "    .dataframe tbody tr th:only-of-type {\n",
       "        vertical-align: middle;\n",
       "    }\n",
       "\n",
       "    .dataframe tbody tr th {\n",
       "        vertical-align: top;\n",
       "    }\n",
       "\n",
       "    .dataframe thead th {\n",
       "        text-align: right;\n",
       "    }\n",
       "</style>\n",
       "<table border=\"1\" class=\"dataframe\">\n",
       "  <thead>\n",
       "    <tr style=\"text-align: right;\">\n",
       "      <th></th>\n",
       "      <th>Country</th>\n",
       "      <th>Year</th>\n",
       "      <th>Internet_Users_Pct</th>\n",
       "    </tr>\n",
       "  </thead>\n",
       "  <tbody>\n",
       "    <tr>\n",
       "      <th>4276</th>\n",
       "      <td>United Kingdom</td>\n",
       "      <td>1990</td>\n",
       "      <td>0.087355</td>\n",
       "    </tr>\n",
       "    <tr>\n",
       "      <th>4301</th>\n",
       "      <td>United States</td>\n",
       "      <td>1990</td>\n",
       "      <td>0.784729</td>\n",
       "    </tr>\n",
       "    <tr>\n",
       "      <th>375</th>\n",
       "      <td>Belgium</td>\n",
       "      <td>1990</td>\n",
       "      <td>0.001007</td>\n",
       "    </tr>\n",
       "    <tr>\n",
       "      <th>3720</th>\n",
       "      <td>Spain</td>\n",
       "      <td>1990</td>\n",
       "      <td>0.012874</td>\n",
       "    </tr>\n",
       "    <tr>\n",
       "      <th>1107</th>\n",
       "      <td>Denmark</td>\n",
       "      <td>1990</td>\n",
       "      <td>0.097277</td>\n",
       "    </tr>\n",
       "    <tr>\n",
       "      <th>...</th>\n",
       "      <td>...</td>\n",
       "      <td>...</td>\n",
       "      <td>...</td>\n",
       "    </tr>\n",
       "    <tr>\n",
       "      <th>929</th>\n",
       "      <td>Costa Rica</td>\n",
       "      <td>2014</td>\n",
       "      <td>49.410000</td>\n",
       "    </tr>\n",
       "    <tr>\n",
       "      <th>2642</th>\n",
       "      <td>Mauritius</td>\n",
       "      <td>2014</td>\n",
       "      <td>41.440000</td>\n",
       "    </tr>\n",
       "    <tr>\n",
       "      <th>953</th>\n",
       "      <td>Cote d'Ivoire</td>\n",
       "      <td>2014</td>\n",
       "      <td>14.600000</td>\n",
       "    </tr>\n",
       "    <tr>\n",
       "      <th>3366</th>\n",
       "      <td>Saint Kitts and Nevis</td>\n",
       "      <td>2014</td>\n",
       "      <td>65.400000</td>\n",
       "    </tr>\n",
       "    <tr>\n",
       "      <th>0</th>\n",
       "      <td>Afghanistan</td>\n",
       "      <td>2014</td>\n",
       "      <td>6.390000</td>\n",
       "    </tr>\n",
       "  </tbody>\n",
       "</table>\n",
       "<p>4106 rows × 3 columns</p>\n",
       "</div>"
      ],
      "text/plain": [
       "                    Country  Year  Internet_Users_Pct\n",
       "4276         United Kingdom  1990            0.087355\n",
       "4301          United States  1990            0.784729\n",
       "375                 Belgium  1990            0.001007\n",
       "3720                  Spain  1990            0.012874\n",
       "1107                Denmark  1990            0.097277\n",
       "...                     ...   ...                 ...\n",
       "929              Costa Rica  2014           49.410000\n",
       "2642              Mauritius  2014           41.440000\n",
       "953           Cote d'Ivoire  2014           14.600000\n",
       "3366  Saint Kitts and Nevis  2014           65.400000\n",
       "0               Afghanistan  2014            6.390000\n",
       "\n",
       "[4106 rows x 3 columns]"
      ]
     },
     "execution_count": 44,
     "metadata": {},
     "output_type": "execute_result"
    }
   ],
   "source": [
    "internet_df.sort_values(by = 'Year').loc[internet_df['Internet_Users_Pct'] != 0]"
   ]
  },
  {
   "cell_type": "markdown",
   "id": "b54cc7b9",
   "metadata": {},
   "source": [
    "# 18. How does the distribution of internet users percent differ for 2000 and 2014?"
   ]
  },
  {
   "cell_type": "code",
   "execution_count": 45,
   "id": "91ef8663",
   "metadata": {},
   "outputs": [],
   "source": [
    "internet_2000 = internet_df.loc[internet_df['Year'] == 2000]"
   ]
  },
  {
   "cell_type": "code",
   "execution_count": 46,
   "id": "6acf756a",
   "metadata": {},
   "outputs": [],
   "source": [
    "internet_2014 = internet_df.loc[internet_df['Year'] == 2014]"
   ]
  },
  {
   "cell_type": "code",
   "execution_count": 47,
   "id": "561004a5",
   "metadata": {},
   "outputs": [],
   "source": [
    "internet_comp = pd.merge(internet_2000, internet_2014,\n",
    "                        left_on = 'Country', right_on = 'Country',\n",
    "                        how = 'inner')"
   ]
  },
  {
   "cell_type": "markdown",
   "id": "4163eed1",
   "metadata": {},
   "source": [
    "# rename columns appropriates"
   ]
  },
  {
   "cell_type": "code",
   "execution_count": 48,
   "id": "d9647577",
   "metadata": {},
   "outputs": [],
   "source": [
    "internet_comp = internet_comp.rename(columns = {'Internet_Users_Pct_x' : 'int_user_pct_2000',\n",
    "                                               'Internet_Users_Pct_y' : 'int_user_pct_2014'})"
   ]
  },
  {
   "cell_type": "markdown",
   "id": "cf6b0e09",
   "metadata": {},
   "source": [
    "# drop year columns"
   ]
  },
  {
   "cell_type": "code",
   "execution_count": 49,
   "id": "ae8ca088",
   "metadata": {},
   "outputs": [],
   "source": [
    "internet_comp = internet_comp.drop(columns = {'Year_x', 'Year_y'})"
   ]
  },
  {
   "cell_type": "code",
   "execution_count": 50,
   "id": "63404481",
   "metadata": {},
   "outputs": [
    {
     "data": {
      "text/html": [
       "<div>\n",
       "<style scoped>\n",
       "    .dataframe tbody tr th:only-of-type {\n",
       "        vertical-align: middle;\n",
       "    }\n",
       "\n",
       "    .dataframe tbody tr th {\n",
       "        vertical-align: top;\n",
       "    }\n",
       "\n",
       "    .dataframe thead th {\n",
       "        text-align: right;\n",
       "    }\n",
       "</style>\n",
       "<table border=\"1\" class=\"dataframe\">\n",
       "  <thead>\n",
       "    <tr style=\"text-align: right;\">\n",
       "      <th></th>\n",
       "      <th>Country</th>\n",
       "      <th>int_user_pct_2000</th>\n",
       "      <th>int_user_pct_2014</th>\n",
       "    </tr>\n",
       "  </thead>\n",
       "  <tbody>\n",
       "    <tr>\n",
       "      <th>0</th>\n",
       "      <td>Albania</td>\n",
       "      <td>0.114097</td>\n",
       "      <td>60.10</td>\n",
       "    </tr>\n",
       "    <tr>\n",
       "      <th>1</th>\n",
       "      <td>Algeria</td>\n",
       "      <td>0.491706</td>\n",
       "      <td>18.09</td>\n",
       "    </tr>\n",
       "    <tr>\n",
       "      <th>2</th>\n",
       "      <td>Andorra</td>\n",
       "      <td>10.538836</td>\n",
       "      <td>95.90</td>\n",
       "    </tr>\n",
       "    <tr>\n",
       "      <th>3</th>\n",
       "      <td>Angola</td>\n",
       "      <td>0.105046</td>\n",
       "      <td>21.26</td>\n",
       "    </tr>\n",
       "    <tr>\n",
       "      <th>4</th>\n",
       "      <td>Antigua and Barbuda</td>\n",
       "      <td>6.482226</td>\n",
       "      <td>64.00</td>\n",
       "    </tr>\n",
       "    <tr>\n",
       "      <th>...</th>\n",
       "      <td>...</td>\n",
       "      <td>...</td>\n",
       "      <td>...</td>\n",
       "    </tr>\n",
       "    <tr>\n",
       "      <th>188</th>\n",
       "      <td>Viet Nam</td>\n",
       "      <td>0.254248</td>\n",
       "      <td>48.31</td>\n",
       "    </tr>\n",
       "    <tr>\n",
       "      <th>189</th>\n",
       "      <td>Virgin Islands (U.S.)</td>\n",
       "      <td>13.815081</td>\n",
       "      <td>50.07</td>\n",
       "    </tr>\n",
       "    <tr>\n",
       "      <th>190</th>\n",
       "      <td>Yemen</td>\n",
       "      <td>0.082500</td>\n",
       "      <td>22.55</td>\n",
       "    </tr>\n",
       "    <tr>\n",
       "      <th>191</th>\n",
       "      <td>Zambia</td>\n",
       "      <td>0.191072</td>\n",
       "      <td>17.34</td>\n",
       "    </tr>\n",
       "    <tr>\n",
       "      <th>192</th>\n",
       "      <td>Zimbabwe</td>\n",
       "      <td>0.401434</td>\n",
       "      <td>19.89</td>\n",
       "    </tr>\n",
       "  </tbody>\n",
       "</table>\n",
       "<p>193 rows × 3 columns</p>\n",
       "</div>"
      ],
      "text/plain": [
       "                   Country  int_user_pct_2000  int_user_pct_2014\n",
       "0                  Albania           0.114097              60.10\n",
       "1                  Algeria           0.491706              18.09\n",
       "2                  Andorra          10.538836              95.90\n",
       "3                   Angola           0.105046              21.26\n",
       "4      Antigua and Barbuda           6.482226              64.00\n",
       "..                     ...                ...                ...\n",
       "188               Viet Nam           0.254248              48.31\n",
       "189  Virgin Islands (U.S.)          13.815081              50.07\n",
       "190                  Yemen           0.082500              22.55\n",
       "191                 Zambia           0.191072              17.34\n",
       "192               Zimbabwe           0.401434              19.89\n",
       "\n",
       "[193 rows x 3 columns]"
      ]
     },
     "execution_count": 50,
     "metadata": {},
     "output_type": "execute_result"
    }
   ],
   "source": [
    "internet_comp"
   ]
  },
  {
   "cell_type": "code",
   "execution_count": 51,
   "id": "c773a80c",
   "metadata": {},
   "outputs": [
    {
     "data": {
      "text/html": [
       "<div>\n",
       "<style scoped>\n",
       "    .dataframe tbody tr th:only-of-type {\n",
       "        vertical-align: middle;\n",
       "    }\n",
       "\n",
       "    .dataframe tbody tr th {\n",
       "        vertical-align: top;\n",
       "    }\n",
       "\n",
       "    .dataframe thead th {\n",
       "        text-align: right;\n",
       "    }\n",
       "</style>\n",
       "<table border=\"1\" class=\"dataframe\">\n",
       "  <thead>\n",
       "    <tr style=\"text-align: right;\">\n",
       "      <th></th>\n",
       "      <th>int_user_pct_2000</th>\n",
       "      <th>int_user_pct_2014</th>\n",
       "    </tr>\n",
       "  </thead>\n",
       "  <tbody>\n",
       "    <tr>\n",
       "      <th>count</th>\n",
       "      <td>193.000000</td>\n",
       "      <td>193.000000</td>\n",
       "    </tr>\n",
       "    <tr>\n",
       "      <th>mean</th>\n",
       "      <td>8.520053</td>\n",
       "      <td>46.120414</td>\n",
       "    </tr>\n",
       "    <tr>\n",
       "      <th>std</th>\n",
       "      <td>13.071954</td>\n",
       "      <td>29.419630</td>\n",
       "    </tr>\n",
       "    <tr>\n",
       "      <th>min</th>\n",
       "      <td>0.000000</td>\n",
       "      <td>0.000000</td>\n",
       "    </tr>\n",
       "    <tr>\n",
       "      <th>25%</th>\n",
       "      <td>0.318060</td>\n",
       "      <td>17.760000</td>\n",
       "    </tr>\n",
       "    <tr>\n",
       "      <th>50%</th>\n",
       "      <td>2.210692</td>\n",
       "      <td>46.160000</td>\n",
       "    </tr>\n",
       "    <tr>\n",
       "      <th>75%</th>\n",
       "      <td>9.138837</td>\n",
       "      <td>70.220000</td>\n",
       "    </tr>\n",
       "    <tr>\n",
       "      <th>max</th>\n",
       "      <td>52.000000</td>\n",
       "      <td>98.160000</td>\n",
       "    </tr>\n",
       "  </tbody>\n",
       "</table>\n",
       "</div>"
      ],
      "text/plain": [
       "       int_user_pct_2000  int_user_pct_2014\n",
       "count         193.000000         193.000000\n",
       "mean            8.520053          46.120414\n",
       "std            13.071954          29.419630\n",
       "min             0.000000           0.000000\n",
       "25%             0.318060          17.760000\n",
       "50%             2.210692          46.160000\n",
       "75%             9.138837          70.220000\n",
       "max            52.000000          98.160000"
      ]
     },
     "execution_count": 51,
     "metadata": {},
     "output_type": "execute_result"
    }
   ],
   "source": [
    "internet_comp.describe()"
   ]
  },
  {
   "cell_type": "code",
   "execution_count": 52,
   "id": "6e848c77",
   "metadata": {},
   "outputs": [
    {
     "data": {
      "text/html": [
       "<div>\n",
       "<style scoped>\n",
       "    .dataframe tbody tr th:only-of-type {\n",
       "        vertical-align: middle;\n",
       "    }\n",
       "\n",
       "    .dataframe tbody tr th {\n",
       "        vertical-align: top;\n",
       "    }\n",
       "\n",
       "    .dataframe thead th {\n",
       "        text-align: right;\n",
       "    }\n",
       "</style>\n",
       "<table border=\"1\" class=\"dataframe\">\n",
       "  <thead>\n",
       "    <tr style=\"text-align: right;\">\n",
       "      <th></th>\n",
       "      <th>Country</th>\n",
       "      <th>int_user_pct_2000</th>\n",
       "      <th>int_user_pct_2014</th>\n",
       "    </tr>\n",
       "  </thead>\n",
       "  <tbody>\n",
       "    <tr>\n",
       "      <th>81</th>\n",
       "      <td>Iceland</td>\n",
       "      <td>44.470534</td>\n",
       "      <td>98.16</td>\n",
       "    </tr>\n",
       "    <tr>\n",
       "      <th>19</th>\n",
       "      <td>Bermuda</td>\n",
       "      <td>42.949860</td>\n",
       "      <td>96.80</td>\n",
       "    </tr>\n",
       "    <tr>\n",
       "      <th>131</th>\n",
       "      <td>Norway</td>\n",
       "      <td>52.000000</td>\n",
       "      <td>96.30</td>\n",
       "    </tr>\n",
       "  </tbody>\n",
       "</table>\n",
       "</div>"
      ],
      "text/plain": [
       "     Country  int_user_pct_2000  int_user_pct_2014\n",
       "81   Iceland          44.470534              98.16\n",
       "19   Bermuda          42.949860              96.80\n",
       "131   Norway          52.000000              96.30"
      ]
     },
     "execution_count": 52,
     "metadata": {},
     "output_type": "execute_result"
    }
   ],
   "source": [
    "internet_comp.nlargest(3, 'int_user_pct_2014')"
   ]
  },
  {
   "cell_type": "code",
   "execution_count": 88,
   "id": "f06b1629",
   "metadata": {},
   "outputs": [
    {
     "data": {
      "text/html": [
       "<div>\n",
       "<style scoped>\n",
       "    .dataframe tbody tr th:only-of-type {\n",
       "        vertical-align: middle;\n",
       "    }\n",
       "\n",
       "    .dataframe tbody tr th {\n",
       "        vertical-align: top;\n",
       "    }\n",
       "\n",
       "    .dataframe thead th {\n",
       "        text-align: right;\n",
       "    }\n",
       "</style>\n",
       "<table border=\"1\" class=\"dataframe\">\n",
       "  <thead>\n",
       "    <tr style=\"text-align: right;\">\n",
       "      <th></th>\n",
       "      <th>Country</th>\n",
       "      <th>int_user_pct_2000</th>\n",
       "      <th>int_user_pct_2014</th>\n",
       "    </tr>\n",
       "  </thead>\n",
       "  <tbody>\n",
       "    <tr>\n",
       "      <th>47</th>\n",
       "      <td>Dem. People's Rep. of Korea</td>\n",
       "      <td>0.000000</td>\n",
       "      <td>0.00</td>\n",
       "    </tr>\n",
       "    <tr>\n",
       "      <th>56</th>\n",
       "      <td>Eritrea</td>\n",
       "      <td>0.136712</td>\n",
       "      <td>0.99</td>\n",
       "    </tr>\n",
       "    <tr>\n",
       "      <th>28</th>\n",
       "      <td>Burundi</td>\n",
       "      <td>0.077248</td>\n",
       "      <td>1.38</td>\n",
       "    </tr>\n",
       "  </tbody>\n",
       "</table>\n",
       "</div>"
      ],
      "text/plain": [
       "                        Country  int_user_pct_2000  int_user_pct_2014\n",
       "47  Dem. People's Rep. of Korea           0.000000               0.00\n",
       "56                      Eritrea           0.136712               0.99\n",
       "28                      Burundi           0.077248               1.38"
      ]
     },
     "execution_count": 88,
     "metadata": {},
     "output_type": "execute_result"
    }
   ],
   "source": [
    "internet_comp.nsmallest(3, 'int_user_pct_2014')"
   ]
  },
  {
   "cell_type": "code",
   "execution_count": 53,
   "id": "a5f1873e",
   "metadata": {},
   "outputs": [
    {
     "data": {
      "text/html": [
       "<div>\n",
       "<style scoped>\n",
       "    .dataframe tbody tr th:only-of-type {\n",
       "        vertical-align: middle;\n",
       "    }\n",
       "\n",
       "    .dataframe tbody tr th {\n",
       "        vertical-align: top;\n",
       "    }\n",
       "\n",
       "    .dataframe thead th {\n",
       "        text-align: right;\n",
       "    }\n",
       "</style>\n",
       "<table border=\"1\" class=\"dataframe\">\n",
       "  <thead>\n",
       "    <tr style=\"text-align: right;\">\n",
       "      <th></th>\n",
       "      <th>Country</th>\n",
       "      <th>int_user_pct_2000</th>\n",
       "      <th>int_user_pct_2014</th>\n",
       "    </tr>\n",
       "  </thead>\n",
       "  <tbody>\n",
       "    <tr>\n",
       "      <th>47</th>\n",
       "      <td>Dem. People's Rep. of Korea</td>\n",
       "      <td>0.000000</td>\n",
       "      <td>0.0</td>\n",
       "    </tr>\n",
       "    <tr>\n",
       "      <th>40</th>\n",
       "      <td>Congo (Democratic Republic of the)</td>\n",
       "      <td>0.005902</td>\n",
       "      <td>3.0</td>\n",
       "    </tr>\n",
       "    <tr>\n",
       "      <th>58</th>\n",
       "      <td>Ethiopia</td>\n",
       "      <td>0.015264</td>\n",
       "      <td>2.9</td>\n",
       "    </tr>\n",
       "  </tbody>\n",
       "</table>\n",
       "</div>"
      ],
      "text/plain": [
       "                               Country  int_user_pct_2000  int_user_pct_2014\n",
       "47         Dem. People's Rep. of Korea           0.000000                0.0\n",
       "40  Congo (Democratic Republic of the)           0.005902                3.0\n",
       "58                            Ethiopia           0.015264                2.9"
      ]
     },
     "execution_count": 53,
     "metadata": {},
     "output_type": "execute_result"
    }
   ],
   "source": [
    "internet_comp.nsmallest(3, 'int_user_pct_2000')"
   ]
  },
  {
   "cell_type": "code",
   "execution_count": 89,
   "id": "feb3823d",
   "metadata": {},
   "outputs": [
    {
     "data": {
      "text/html": [
       "<div>\n",
       "<style scoped>\n",
       "    .dataframe tbody tr th:only-of-type {\n",
       "        vertical-align: middle;\n",
       "    }\n",
       "\n",
       "    .dataframe tbody tr th {\n",
       "        vertical-align: top;\n",
       "    }\n",
       "\n",
       "    .dataframe thead th {\n",
       "        text-align: right;\n",
       "    }\n",
       "</style>\n",
       "<table border=\"1\" class=\"dataframe\">\n",
       "  <thead>\n",
       "    <tr style=\"text-align: right;\">\n",
       "      <th></th>\n",
       "      <th>Country</th>\n",
       "      <th>int_user_pct_2000</th>\n",
       "      <th>int_user_pct_2014</th>\n",
       "    </tr>\n",
       "  </thead>\n",
       "  <tbody>\n",
       "    <tr>\n",
       "      <th>131</th>\n",
       "      <td>Norway</td>\n",
       "      <td>52.000000</td>\n",
       "      <td>96.30</td>\n",
       "    </tr>\n",
       "    <tr>\n",
       "      <th>31</th>\n",
       "      <td>Canada</td>\n",
       "      <td>51.300000</td>\n",
       "      <td>87.12</td>\n",
       "    </tr>\n",
       "    <tr>\n",
       "      <th>127</th>\n",
       "      <td>New Zealand</td>\n",
       "      <td>47.379557</td>\n",
       "      <td>85.50</td>\n",
       "    </tr>\n",
       "  </tbody>\n",
       "</table>\n",
       "</div>"
      ],
      "text/plain": [
       "         Country  int_user_pct_2000  int_user_pct_2014\n",
       "131       Norway          52.000000              96.30\n",
       "31        Canada          51.300000              87.12\n",
       "127  New Zealand          47.379557              85.50"
      ]
     },
     "execution_count": 89,
     "metadata": {},
     "output_type": "execute_result"
    }
   ],
   "source": [
    "internet_comp.nlargest(3, 'int_user_pct_2000')"
   ]
  },
  {
   "cell_type": "code",
   "execution_count": 78,
   "id": "ddfda790",
   "metadata": {},
   "outputs": [
    {
     "data": {
      "text/plain": [
       "(193, 3)"
      ]
     },
     "execution_count": 78,
     "metadata": {},
     "output_type": "execute_result"
    }
   ],
   "source": [
    "internet_comp.shape"
   ]
  },
  {
   "cell_type": "markdown",
   "id": "76f418e1",
   "metadata": {},
   "source": [
    "# 19. For how many countries was the percentage of internet users below 5% in 2014? Answer: 16"
   ]
  },
  {
   "cell_type": "code",
   "execution_count": 54,
   "id": "c351ec73",
   "metadata": {},
   "outputs": [
    {
     "data": {
      "text/plain": [
       "(16, 3)"
      ]
     },
     "execution_count": 54,
     "metadata": {},
     "output_type": "execute_result"
    }
   ],
   "source": [
    "internet_2014.loc[internet_2014['Internet_Users_Pct'] < 5].shape"
   ]
  },
  {
   "cell_type": "markdown",
   "id": "4ddca434",
   "metadata": {},
   "source": [
    "# 20. Merge the two DataFrames to one. Do this in a way that keeps **all rows** from each of the two DataFrames. Call the new DataFrame `gdp_and_internet_use`. Look at the first and last few rows to confirm that it merged correctly."
   ]
  },
  {
   "cell_type": "code",
   "execution_count": 55,
   "id": "08c0f633",
   "metadata": {},
   "outputs": [
    {
     "name": "stdout",
     "output_type": "stream",
     "text": [
      "burundi_gdp\t decrease_gdp\t gdp_1990\t gdp_1990_100k\t gdp_1990_2020\t gdp_2020\t gdp_2020_sorted\t gdp_decades\t gdp_df\t \n",
      "gdp_df_2\t internet_2000\t internet_2014\t internet_comp\t internet_df\t lux_gdp\t new_gdp\t pd\t plt\t \n",
      "sns\t year_gdp\t year_internet\t years\t \n"
     ]
    }
   ],
   "source": [
    "%who"
   ]
  },
  {
   "cell_type": "code",
   "execution_count": null,
   "id": "ca160467",
   "metadata": {},
   "outputs": [],
   "source": []
  },
  {
   "cell_type": "code",
   "execution_count": 56,
   "id": "8c92e6e4",
   "metadata": {},
   "outputs": [
    {
     "data": {
      "text/html": [
       "<div>\n",
       "<style scoped>\n",
       "    .dataframe tbody tr th:only-of-type {\n",
       "        vertical-align: middle;\n",
       "    }\n",
       "\n",
       "    .dataframe tbody tr th {\n",
       "        vertical-align: top;\n",
       "    }\n",
       "\n",
       "    .dataframe thead th {\n",
       "        text-align: right;\n",
       "    }\n",
       "</style>\n",
       "<table border=\"1\" class=\"dataframe\">\n",
       "  <thead>\n",
       "    <tr style=\"text-align: right;\">\n",
       "      <th></th>\n",
       "      <th>Country</th>\n",
       "      <th>Year</th>\n",
       "      <th>GDP_Per_Capita</th>\n",
       "    </tr>\n",
       "  </thead>\n",
       "  <tbody>\n",
       "    <tr>\n",
       "      <th>0</th>\n",
       "      <td>Afghanistan</td>\n",
       "      <td>2020</td>\n",
       "      <td>1970.560169</td>\n",
       "    </tr>\n",
       "    <tr>\n",
       "      <th>1</th>\n",
       "      <td>Afghanistan</td>\n",
       "      <td>2019</td>\n",
       "      <td>2065.036235</td>\n",
       "    </tr>\n",
       "    <tr>\n",
       "      <th>2</th>\n",
       "      <td>Afghanistan</td>\n",
       "      <td>2018</td>\n",
       "      <td>2033.804389</td>\n",
       "    </tr>\n",
       "    <tr>\n",
       "      <th>3</th>\n",
       "      <td>Afghanistan</td>\n",
       "      <td>2017</td>\n",
       "      <td>2058.400221</td>\n",
       "    </tr>\n",
       "    <tr>\n",
       "      <th>4</th>\n",
       "      <td>Afghanistan</td>\n",
       "      <td>2016</td>\n",
       "      <td>2057.067978</td>\n",
       "    </tr>\n",
       "  </tbody>\n",
       "</table>\n",
       "</div>"
      ],
      "text/plain": [
       "       Country  Year  GDP_Per_Capita\n",
       "0  Afghanistan  2020     1970.560169\n",
       "1  Afghanistan  2019     2065.036235\n",
       "2  Afghanistan  2018     2033.804389\n",
       "3  Afghanistan  2017     2058.400221\n",
       "4  Afghanistan  2016     2057.067978"
      ]
     },
     "execution_count": 56,
     "metadata": {},
     "output_type": "execute_result"
    }
   ],
   "source": [
    "gdp_df_2.head()"
   ]
  },
  {
   "cell_type": "code",
   "execution_count": 57,
   "id": "c049767b",
   "metadata": {},
   "outputs": [
    {
     "data": {
      "text/html": [
       "<div>\n",
       "<style scoped>\n",
       "    .dataframe tbody tr th:only-of-type {\n",
       "        vertical-align: middle;\n",
       "    }\n",
       "\n",
       "    .dataframe tbody tr th {\n",
       "        vertical-align: top;\n",
       "    }\n",
       "\n",
       "    .dataframe thead th {\n",
       "        text-align: right;\n",
       "    }\n",
       "</style>\n",
       "<table border=\"1\" class=\"dataframe\">\n",
       "  <thead>\n",
       "    <tr style=\"text-align: right;\">\n",
       "      <th></th>\n",
       "      <th>Country</th>\n",
       "      <th>Year</th>\n",
       "      <th>Internet_Users_Pct</th>\n",
       "    </tr>\n",
       "  </thead>\n",
       "  <tbody>\n",
       "    <tr>\n",
       "      <th>0</th>\n",
       "      <td>Afghanistan</td>\n",
       "      <td>2014</td>\n",
       "      <td>6.390000</td>\n",
       "    </tr>\n",
       "    <tr>\n",
       "      <th>1</th>\n",
       "      <td>Afghanistan</td>\n",
       "      <td>2013</td>\n",
       "      <td>5.900000</td>\n",
       "    </tr>\n",
       "    <tr>\n",
       "      <th>2</th>\n",
       "      <td>Afghanistan</td>\n",
       "      <td>2012</td>\n",
       "      <td>5.454545</td>\n",
       "    </tr>\n",
       "    <tr>\n",
       "      <th>3</th>\n",
       "      <td>Afghanistan</td>\n",
       "      <td>2011</td>\n",
       "      <td>5.000000</td>\n",
       "    </tr>\n",
       "    <tr>\n",
       "      <th>4</th>\n",
       "      <td>Afghanistan</td>\n",
       "      <td>2010</td>\n",
       "      <td>4.000000</td>\n",
       "    </tr>\n",
       "  </tbody>\n",
       "</table>\n",
       "</div>"
      ],
      "text/plain": [
       "       Country  Year  Internet_Users_Pct\n",
       "0  Afghanistan  2014            6.390000\n",
       "1  Afghanistan  2013            5.900000\n",
       "2  Afghanistan  2012            5.454545\n",
       "3  Afghanistan  2011            5.000000\n",
       "4  Afghanistan  2010            4.000000"
      ]
     },
     "execution_count": 57,
     "metadata": {},
     "output_type": "execute_result"
    }
   ],
   "source": [
    "internet_df.head()"
   ]
  },
  {
   "cell_type": "code",
   "execution_count": 58,
   "id": "90f2ae43",
   "metadata": {},
   "outputs": [
    {
     "data": {
      "text/html": [
       "<div>\n",
       "<style scoped>\n",
       "    .dataframe tbody tr th:only-of-type {\n",
       "        vertical-align: middle;\n",
       "    }\n",
       "\n",
       "    .dataframe tbody tr th {\n",
       "        vertical-align: top;\n",
       "    }\n",
       "\n",
       "    .dataframe thead th {\n",
       "        text-align: right;\n",
       "    }\n",
       "</style>\n",
       "<table border=\"1\" class=\"dataframe\">\n",
       "  <thead>\n",
       "    <tr style=\"text-align: right;\">\n",
       "      <th></th>\n",
       "      <th>Country</th>\n",
       "      <th>Year</th>\n",
       "      <th>GDP_Per_Capita</th>\n",
       "      <th>Internet_Users_Pct</th>\n",
       "    </tr>\n",
       "  </thead>\n",
       "  <tbody>\n",
       "    <tr>\n",
       "      <th>0</th>\n",
       "      <td>Afghanistan</td>\n",
       "      <td>2020</td>\n",
       "      <td>1970.560169</td>\n",
       "      <td>NaN</td>\n",
       "    </tr>\n",
       "    <tr>\n",
       "      <th>1</th>\n",
       "      <td>Afghanistan</td>\n",
       "      <td>2019</td>\n",
       "      <td>2065.036235</td>\n",
       "      <td>NaN</td>\n",
       "    </tr>\n",
       "    <tr>\n",
       "      <th>2</th>\n",
       "      <td>Afghanistan</td>\n",
       "      <td>2018</td>\n",
       "      <td>2033.804389</td>\n",
       "      <td>NaN</td>\n",
       "    </tr>\n",
       "    <tr>\n",
       "      <th>3</th>\n",
       "      <td>Afghanistan</td>\n",
       "      <td>2017</td>\n",
       "      <td>2058.400221</td>\n",
       "      <td>NaN</td>\n",
       "    </tr>\n",
       "    <tr>\n",
       "      <th>4</th>\n",
       "      <td>Afghanistan</td>\n",
       "      <td>2016</td>\n",
       "      <td>2057.067978</td>\n",
       "      <td>NaN</td>\n",
       "    </tr>\n",
       "    <tr>\n",
       "      <th>...</th>\n",
       "      <td>...</td>\n",
       "      <td>...</td>\n",
       "      <td>...</td>\n",
       "      <td>...</td>\n",
       "    </tr>\n",
       "    <tr>\n",
       "      <th>8251</th>\n",
       "      <td>Yemen</td>\n",
       "      <td>1999</td>\n",
       "      <td>NaN</td>\n",
       "      <td>0.056629</td>\n",
       "    </tr>\n",
       "    <tr>\n",
       "      <th>8252</th>\n",
       "      <td>Yemen</td>\n",
       "      <td>1998</td>\n",
       "      <td>NaN</td>\n",
       "      <td>0.023323</td>\n",
       "    </tr>\n",
       "    <tr>\n",
       "      <th>8253</th>\n",
       "      <td>Yemen</td>\n",
       "      <td>1997</td>\n",
       "      <td>NaN</td>\n",
       "      <td>0.015025</td>\n",
       "    </tr>\n",
       "    <tr>\n",
       "      <th>8254</th>\n",
       "      <td>Yemen</td>\n",
       "      <td>1996</td>\n",
       "      <td>NaN</td>\n",
       "      <td>0.000621</td>\n",
       "    </tr>\n",
       "    <tr>\n",
       "      <th>8255</th>\n",
       "      <td>Yemen</td>\n",
       "      <td>1990</td>\n",
       "      <td>NaN</td>\n",
       "      <td>0.000000</td>\n",
       "    </tr>\n",
       "  </tbody>\n",
       "</table>\n",
       "<p>8256 rows × 4 columns</p>\n",
       "</div>"
      ],
      "text/plain": [
       "          Country  Year  GDP_Per_Capita  Internet_Users_Pct\n",
       "0     Afghanistan  2020     1970.560169                 NaN\n",
       "1     Afghanistan  2019     2065.036235                 NaN\n",
       "2     Afghanistan  2018     2033.804389                 NaN\n",
       "3     Afghanistan  2017     2058.400221                 NaN\n",
       "4     Afghanistan  2016     2057.067978                 NaN\n",
       "...           ...   ...             ...                 ...\n",
       "8251        Yemen  1999             NaN            0.056629\n",
       "8252        Yemen  1998             NaN            0.023323\n",
       "8253        Yemen  1997             NaN            0.015025\n",
       "8254        Yemen  1996             NaN            0.000621\n",
       "8255        Yemen  1990             NaN            0.000000\n",
       "\n",
       "[8256 rows x 4 columns]"
      ]
     },
     "execution_count": 58,
     "metadata": {},
     "output_type": "execute_result"
    }
   ],
   "source": [
    "gdp_and_internet_use =  pd.merge(gdp_df_2, internet_df,\n",
    "                            left_on = ['Year','Country'], right_on = ['Year','Country'],\n",
    "                            how = 'outer')\n",
    "gdp_and_internet_use"
   ]
  },
  {
   "cell_type": "markdown",
   "id": "abf7fc01",
   "metadata": {},
   "source": [
    "# 21. Find the three countries with the highest internet users percentage in 2014. Use a seaborn FacetGrid (https://seaborn.pydata.org/generated/seaborn.FacetGrid.html) to compare how the GDP per capita has changed over time for these three countries. What do you notice?"
   ]
  },
  {
   "cell_type": "code",
   "execution_count": 59,
   "id": "62c0fd18",
   "metadata": {},
   "outputs": [],
   "source": [
    "gdp_and_internet_use_2014 = gdp_and_internet_use.loc[gdp_and_internet_use['Year'] == 2014]"
   ]
  },
  {
   "cell_type": "code",
   "execution_count": 60,
   "id": "3717fc06",
   "metadata": {},
   "outputs": [
    {
     "data": {
      "text/html": [
       "<div>\n",
       "<style scoped>\n",
       "    .dataframe tbody tr th:only-of-type {\n",
       "        vertical-align: middle;\n",
       "    }\n",
       "\n",
       "    .dataframe tbody tr th {\n",
       "        vertical-align: top;\n",
       "    }\n",
       "\n",
       "    .dataframe thead th {\n",
       "        text-align: right;\n",
       "    }\n",
       "</style>\n",
       "<table border=\"1\" class=\"dataframe\">\n",
       "  <thead>\n",
       "    <tr style=\"text-align: right;\">\n",
       "      <th></th>\n",
       "      <th>Country</th>\n",
       "      <th>Year</th>\n",
       "      <th>GDP_Per_Capita</th>\n",
       "      <th>Internet_Users_Pct</th>\n",
       "    </tr>\n",
       "  </thead>\n",
       "  <tbody>\n",
       "    <tr>\n",
       "      <th>2803</th>\n",
       "      <td>Iceland</td>\n",
       "      <td>2014</td>\n",
       "      <td>50450.741612</td>\n",
       "      <td>98.16</td>\n",
       "    </tr>\n",
       "    <tr>\n",
       "      <th>645</th>\n",
       "      <td>Bermuda</td>\n",
       "      <td>2014</td>\n",
       "      <td>77361.104881</td>\n",
       "      <td>96.80</td>\n",
       "    </tr>\n",
       "    <tr>\n",
       "      <th>4880</th>\n",
       "      <td>Norway</td>\n",
       "      <td>2014</td>\n",
       "      <td>62390.130313</td>\n",
       "      <td>96.30</td>\n",
       "    </tr>\n",
       "  </tbody>\n",
       "</table>\n",
       "</div>"
      ],
      "text/plain": [
       "      Country  Year  GDP_Per_Capita  Internet_Users_Pct\n",
       "2803  Iceland  2014    50450.741612               98.16\n",
       "645   Bermuda  2014    77361.104881               96.80\n",
       "4880   Norway  2014    62390.130313               96.30"
      ]
     },
     "execution_count": 60,
     "metadata": {},
     "output_type": "execute_result"
    }
   ],
   "source": [
    "gdp_and_internet_use_2014.nlargest(3, 'Internet_Users_Pct')"
   ]
  },
  {
   "cell_type": "code",
   "execution_count": 61,
   "id": "40342eba",
   "metadata": {},
   "outputs": [
    {
     "data": {
      "text/html": [
       "<div>\n",
       "<style scoped>\n",
       "    .dataframe tbody tr th:only-of-type {\n",
       "        vertical-align: middle;\n",
       "    }\n",
       "\n",
       "    .dataframe tbody tr th {\n",
       "        vertical-align: top;\n",
       "    }\n",
       "\n",
       "    .dataframe thead th {\n",
       "        text-align: right;\n",
       "    }\n",
       "</style>\n",
       "<table border=\"1\" class=\"dataframe\">\n",
       "  <thead>\n",
       "    <tr style=\"text-align: right;\">\n",
       "      <th></th>\n",
       "      <th>Country</th>\n",
       "      <th>Year</th>\n",
       "      <th>GDP_Per_Capita</th>\n",
       "      <th>Internet_Users_Pct</th>\n",
       "    </tr>\n",
       "  </thead>\n",
       "  <tbody>\n",
       "    <tr>\n",
       "      <th>639</th>\n",
       "      <td>Bermuda</td>\n",
       "      <td>2020</td>\n",
       "      <td>76105.138057</td>\n",
       "      <td>NaN</td>\n",
       "    </tr>\n",
       "    <tr>\n",
       "      <th>640</th>\n",
       "      <td>Bermuda</td>\n",
       "      <td>2019</td>\n",
       "      <td>81681.726668</td>\n",
       "      <td>NaN</td>\n",
       "    </tr>\n",
       "    <tr>\n",
       "      <th>641</th>\n",
       "      <td>Bermuda</td>\n",
       "      <td>2018</td>\n",
       "      <td>81423.408453</td>\n",
       "      <td>NaN</td>\n",
       "    </tr>\n",
       "    <tr>\n",
       "      <th>642</th>\n",
       "      <td>Bermuda</td>\n",
       "      <td>2017</td>\n",
       "      <td>81834.955874</td>\n",
       "      <td>NaN</td>\n",
       "    </tr>\n",
       "    <tr>\n",
       "      <th>643</th>\n",
       "      <td>Bermuda</td>\n",
       "      <td>2016</td>\n",
       "      <td>78149.352535</td>\n",
       "      <td>NaN</td>\n",
       "    </tr>\n",
       "    <tr>\n",
       "      <th>...</th>\n",
       "      <td>...</td>\n",
       "      <td>...</td>\n",
       "      <td>...</td>\n",
       "      <td>...</td>\n",
       "    </tr>\n",
       "    <tr>\n",
       "      <th>7670</th>\n",
       "      <td>Iceland</td>\n",
       "      <td>1994</td>\n",
       "      <td>NaN</td>\n",
       "      <td>6.794812</td>\n",
       "    </tr>\n",
       "    <tr>\n",
       "      <th>7671</th>\n",
       "      <td>Iceland</td>\n",
       "      <td>1993</td>\n",
       "      <td>NaN</td>\n",
       "      <td>2.667825</td>\n",
       "    </tr>\n",
       "    <tr>\n",
       "      <th>7672</th>\n",
       "      <td>Iceland</td>\n",
       "      <td>1992</td>\n",
       "      <td>NaN</td>\n",
       "      <td>1.539160</td>\n",
       "    </tr>\n",
       "    <tr>\n",
       "      <th>7673</th>\n",
       "      <td>Iceland</td>\n",
       "      <td>1991</td>\n",
       "      <td>NaN</td>\n",
       "      <td>0.505129</td>\n",
       "    </tr>\n",
       "    <tr>\n",
       "      <th>7674</th>\n",
       "      <td>Iceland</td>\n",
       "      <td>1990</td>\n",
       "      <td>NaN</td>\n",
       "      <td>0.000000</td>\n",
       "    </tr>\n",
       "  </tbody>\n",
       "</table>\n",
       "<p>93 rows × 4 columns</p>\n",
       "</div>"
      ],
      "text/plain": [
       "      Country  Year  GDP_Per_Capita  Internet_Users_Pct\n",
       "639   Bermuda  2020    76105.138057                 NaN\n",
       "640   Bermuda  2019    81681.726668                 NaN\n",
       "641   Bermuda  2018    81423.408453                 NaN\n",
       "642   Bermuda  2017    81834.955874                 NaN\n",
       "643   Bermuda  2016    78149.352535                 NaN\n",
       "...       ...   ...             ...                 ...\n",
       "7670  Iceland  1994             NaN            6.794812\n",
       "7671  Iceland  1993             NaN            2.667825\n",
       "7672  Iceland  1992             NaN            1.539160\n",
       "7673  Iceland  1991             NaN            0.505129\n",
       "7674  Iceland  1990             NaN            0.000000\n",
       "\n",
       "[93 rows x 4 columns]"
      ]
     },
     "execution_count": 61,
     "metadata": {},
     "output_type": "execute_result"
    }
   ],
   "source": [
    "top3_int_use_2014 = gdp_and_internet_use.loc[(gdp_and_internet_use['Country'] == 'Iceland') | \n",
    "                                             (gdp_and_internet_use['Country'] == 'Bermuda') |\n",
    "                                             (gdp_and_internet_use['Country'] == 'Norway')]\n",
    "top3_int_use_2014"
   ]
  },
  {
   "cell_type": "code",
   "execution_count": 62,
   "id": "83921d1d",
   "metadata": {},
   "outputs": [
    {
     "data": {
      "text/plain": [
       "<seaborn.axisgrid.FacetGrid at 0x20b5efba8c0>"
      ]
     },
     "execution_count": 62,
     "metadata": {},
     "output_type": "execute_result"
    },
    {
     "data": {
      "image/png": "[encoded data removed]",
      "text/plain": [
       "<Figure size 300x300 with 1 Axes>"
      ]
     },
     "metadata": {},
     "output_type": "display_data"
    }
   ],
   "source": [
    "sns.FacetGrid(top3_int_use_2014)"
   ]
  },
  {
   "cell_type": "code",
   "execution_count": 63,
   "id": "05d65e39",
   "metadata": {},
   "outputs": [
    {
     "data": {
      "text/plain": [
       "<seaborn.axisgrid.FacetGrid at 0x20b639f0700>"
      ]
     },
     "execution_count": 63,
     "metadata": {},
     "output_type": "execute_result"
    },
    {
     "data": {
      "image/png": "[encoded data removed]",
      "text/plain": [
       "<Figure size 900x300 with 3 Axes>"
      ]
     },
     "metadata": {},
     "output_type": "display_data"
    }
   ],
   "source": [
    "sns.FacetGrid(top3_int_use_2014, col = 'Country')"
   ]
  },
  {
   "cell_type": "code",
   "execution_count": 64,
   "id": "c5227e99",
   "metadata": {},
   "outputs": [
    {
     "data": {
      "text/plain": [
       "<seaborn.axisgrid.FacetGrid at 0x20b63d66ef0>"
      ]
     },
     "execution_count": 64,
     "metadata": {},
     "output_type": "execute_result"
    },
    {
     "data": {
      "image/png": "[encoded data removed]",
      "text/plain": [
       "<Figure size 900x300 with 3 Axes>"
      ]
     },
     "metadata": {},
     "output_type": "display_data"
    }
   ],
   "source": [
    "chart = sns.FacetGrid(top3_int_use_2014, col = 'Country')\n",
    "chart.map(sns.scatterplot, 'Year', 'GDP_Per_Capita')"
   ]
  },
  {
   "cell_type": "markdown",
   "id": "0392de06",
   "metadata": {},
   "source": [
    "# 22. Subset `gdp_and_internet_use` to just the year 2014. Save this as a new dataframe named `gdp_and_internet_use_2014`."
   ]
  },
  {
   "cell_type": "markdown",
   "id": "94d5cc2a",
   "metadata": {},
   "source": [
    "# This was done in a previous question"
   ]
  },
  {
   "cell_type": "code",
   "execution_count": 65,
   "id": "937d1c34",
   "metadata": {},
   "outputs": [
    {
     "data": {
      "text/html": [
       "<div>\n",
       "<style scoped>\n",
       "    .dataframe tbody tr th:only-of-type {\n",
       "        vertical-align: middle;\n",
       "    }\n",
       "\n",
       "    .dataframe tbody tr th {\n",
       "        vertical-align: top;\n",
       "    }\n",
       "\n",
       "    .dataframe thead th {\n",
       "        text-align: right;\n",
       "    }\n",
       "</style>\n",
       "<table border=\"1\" class=\"dataframe\">\n",
       "  <thead>\n",
       "    <tr style=\"text-align: right;\">\n",
       "      <th></th>\n",
       "      <th>Country</th>\n",
       "      <th>Year</th>\n",
       "      <th>GDP_Per_Capita</th>\n",
       "      <th>Internet_Users_Pct</th>\n",
       "    </tr>\n",
       "  </thead>\n",
       "  <tbody>\n",
       "    <tr>\n",
       "      <th>6</th>\n",
       "      <td>Afghanistan</td>\n",
       "      <td>2014</td>\n",
       "      <td>2102.384604</td>\n",
       "      <td>6.39</td>\n",
       "    </tr>\n",
       "    <tr>\n",
       "      <th>25</th>\n",
       "      <td>Africa Eastern and Southern</td>\n",
       "      <td>2014</td>\n",
       "      <td>3677.319414</td>\n",
       "      <td>NaN</td>\n",
       "    </tr>\n",
       "    <tr>\n",
       "      <th>56</th>\n",
       "      <td>Africa Western and Central</td>\n",
       "      <td>2014</td>\n",
       "      <td>4215.646000</td>\n",
       "      <td>NaN</td>\n",
       "    </tr>\n",
       "    <tr>\n",
       "      <th>87</th>\n",
       "      <td>Albania</td>\n",
       "      <td>2014</td>\n",
       "      <td>11586.833878</td>\n",
       "      <td>60.10</td>\n",
       "    </tr>\n",
       "    <tr>\n",
       "      <th>118</th>\n",
       "      <td>Algeria</td>\n",
       "      <td>2014</td>\n",
       "      <td>11512.690472</td>\n",
       "      <td>18.09</td>\n",
       "    </tr>\n",
       "    <tr>\n",
       "      <th>...</th>\n",
       "      <td>...</td>\n",
       "      <td>...</td>\n",
       "      <td>...</td>\n",
       "      <td>...</td>\n",
       "    </tr>\n",
       "    <tr>\n",
       "      <th>8147</th>\n",
       "      <td>Turkey</td>\n",
       "      <td>2014</td>\n",
       "      <td>NaN</td>\n",
       "      <td>51.04</td>\n",
       "    </tr>\n",
       "    <tr>\n",
       "      <th>8170</th>\n",
       "      <td>Venezuela</td>\n",
       "      <td>2014</td>\n",
       "      <td>NaN</td>\n",
       "      <td>57.00</td>\n",
       "    </tr>\n",
       "    <tr>\n",
       "      <th>8194</th>\n",
       "      <td>Viet Nam</td>\n",
       "      <td>2014</td>\n",
       "      <td>NaN</td>\n",
       "      <td>48.31</td>\n",
       "    </tr>\n",
       "    <tr>\n",
       "      <th>8214</th>\n",
       "      <td>Virgin Islands (U.S.)</td>\n",
       "      <td>2014</td>\n",
       "      <td>NaN</td>\n",
       "      <td>50.07</td>\n",
       "    </tr>\n",
       "    <tr>\n",
       "      <th>8236</th>\n",
       "      <td>Yemen</td>\n",
       "      <td>2014</td>\n",
       "      <td>NaN</td>\n",
       "      <td>22.55</td>\n",
       "    </tr>\n",
       "  </tbody>\n",
       "</table>\n",
       "<p>281 rows × 4 columns</p>\n",
       "</div>"
      ],
      "text/plain": [
       "                          Country  Year  GDP_Per_Capita  Internet_Users_Pct\n",
       "6                     Afghanistan  2014     2102.384604                6.39\n",
       "25    Africa Eastern and Southern  2014     3677.319414                 NaN\n",
       "56     Africa Western and Central  2014     4215.646000                 NaN\n",
       "87                        Albania  2014    11586.833878               60.10\n",
       "118                       Algeria  2014    11512.690472               18.09\n",
       "...                           ...   ...             ...                 ...\n",
       "8147                       Turkey  2014             NaN               51.04\n",
       "8170                    Venezuela  2014             NaN               57.00\n",
       "8194                     Viet Nam  2014             NaN               48.31\n",
       "8214        Virgin Islands (U.S.)  2014             NaN               50.07\n",
       "8236                        Yemen  2014             NaN               22.55\n",
       "\n",
       "[281 rows x 4 columns]"
      ]
     },
     "execution_count": 65,
     "metadata": {},
     "output_type": "execute_result"
    }
   ],
   "source": [
    "gdp_and_internet_use_2014"
   ]
  },
  {
   "cell_type": "markdown",
   "id": "697cd638",
   "metadata": {},
   "source": [
    "# 23. Create a plot which compares Internet Users Percentage and GDP per Capita for the year 2014. What do you notice from this plot? If you see any unusual points, investigate them."
   ]
  },
  {
   "cell_type": "code",
   "execution_count": 66,
   "id": "00f8eb3d",
   "metadata": {},
   "outputs": [
    {
     "data": {
      "text/plain": [
       "<Axes: xlabel='Internet_Users_Pct', ylabel='GDP_Per_Capita'>"
      ]
     },
     "execution_count": 66,
     "metadata": {},
     "output_type": "execute_result"
    },
    {
     "data": {
      "image/png": "[encoded data removed]",
      "text/plain": [
       "<Figure size 640x480 with 1 Axes>"
      ]
     },
     "metadata": {},
     "output_type": "display_data"
    }
   ],
   "source": [
    "sns.regplot(x=gdp_and_internet_use_2014[\"Internet_Users_Pct\"],\n",
    "            y=gdp_and_internet_use_2014[\"GDP_Per_Capita\"])"
   ]
  },
  {
   "cell_type": "code",
   "execution_count": 67,
   "id": "86b6f88a",
   "metadata": {},
   "outputs": [
    {
     "data": {
      "text/html": [
       "<div>\n",
       "<style scoped>\n",
       "    .dataframe tbody tr th:only-of-type {\n",
       "        vertical-align: middle;\n",
       "    }\n",
       "\n",
       "    .dataframe tbody tr th {\n",
       "        vertical-align: top;\n",
       "    }\n",
       "\n",
       "    .dataframe thead th {\n",
       "        text-align: right;\n",
       "    }\n",
       "</style>\n",
       "<table border=\"1\" class=\"dataframe\">\n",
       "  <thead>\n",
       "    <tr style=\"text-align: right;\">\n",
       "      <th></th>\n",
       "      <th>Country</th>\n",
       "      <th>Year</th>\n",
       "      <th>GDP_Per_Capita</th>\n",
       "      <th>Internet_Users_Pct</th>\n",
       "    </tr>\n",
       "  </thead>\n",
       "  <tbody>\n",
       "    <tr>\n",
       "      <th>3888</th>\n",
       "      <td>Luxembourg</td>\n",
       "      <td>2014</td>\n",
       "      <td>113313.578898</td>\n",
       "      <td>94.67</td>\n",
       "    </tr>\n",
       "    <tr>\n",
       "      <th>3919</th>\n",
       "      <td>Macao SAR, China</td>\n",
       "      <td>2014</td>\n",
       "      <td>155201.740571</td>\n",
       "      <td>NaN</td>\n",
       "    </tr>\n",
       "    <tr>\n",
       "      <th>5387</th>\n",
       "      <td>Qatar</td>\n",
       "      <td>2014</td>\n",
       "      <td>95578.261511</td>\n",
       "      <td>91.49</td>\n",
       "    </tr>\n",
       "    <tr>\n",
       "      <th>5726</th>\n",
       "      <td>Singapore</td>\n",
       "      <td>2014</td>\n",
       "      <td>87616.637527</td>\n",
       "      <td>82.00</td>\n",
       "    </tr>\n",
       "  </tbody>\n",
       "</table>\n",
       "</div>"
      ],
      "text/plain": [
       "               Country  Year  GDP_Per_Capita  Internet_Users_Pct\n",
       "3888        Luxembourg  2014   113313.578898               94.67\n",
       "3919  Macao SAR, China  2014   155201.740571                 NaN\n",
       "5387             Qatar  2014    95578.261511               91.49\n",
       "5726         Singapore  2014    87616.637527               82.00"
      ]
     },
     "execution_count": 67,
     "metadata": {},
     "output_type": "execute_result"
    }
   ],
   "source": [
    "gdp_and_internet_use_2014.loc[gdp_and_internet_use_2014['GDP_Per_Capita'] > 80000]"
   ]
  },
  {
   "cell_type": "markdown",
   "id": "60a25c42",
   "metadata": {},
   "source": [
    "# 24. **Stretch Question:** Use the `qcut` function from pandas (https://pandas.pydata.org/docs/reference/api/pandas.qcut.html) to divide countries in `gdp_per_capita_2014` into three groups based on their GDP per capita values. Label these groups as \"Low\", \"Medium\", and \"High\". Put these labels in a new column, named \"GDP_group\"."
   ]
  },
  {
   "cell_type": "code",
   "execution_count": 68,
   "id": "6e33de0e",
   "metadata": {},
   "outputs": [
    {
     "name": "stderr",
     "output_type": "stream",
     "text": [
      "C:\\Users\\hunte\\AppData\\Local\\Temp\\ipykernel_5556\\1916463022.py:1: SettingWithCopyWarning: \n",
      "A value is trying to be set on a copy of a slice from a DataFrame.\n",
      "Try using .loc[row_indexer,col_indexer] = value instead\n",
      "\n",
      "See the caveats in the documentation: https://pandas.pydata.org/pandas-docs/stable/user_guide/indexing.html#returning-a-view-versus-a-copy\n",
      "  gdp_and_internet_use_2014['GDP_group'] = pd.qcut(gdp_and_internet_use_2014['GDP_Per_Capita'], 3,\n"
     ]
    }
   ],
   "source": [
    "gdp_and_internet_use_2014['GDP_group'] = pd.qcut(gdp_and_internet_use_2014['GDP_Per_Capita'], 3, \n",
    "                                            labels = ('Low', 'Medium', 'High'))"
   ]
  },
  {
   "cell_type": "code",
   "execution_count": 69,
   "id": "f258398d",
   "metadata": {},
   "outputs": [
    {
     "data": {
      "text/html": [
       "<div>\n",
       "<style scoped>\n",
       "    .dataframe tbody tr th:only-of-type {\n",
       "        vertical-align: middle;\n",
       "    }\n",
       "\n",
       "    .dataframe tbody tr th {\n",
       "        vertical-align: top;\n",
       "    }\n",
       "\n",
       "    .dataframe thead th {\n",
       "        text-align: right;\n",
       "    }\n",
       "</style>\n",
       "<table border=\"1\" class=\"dataframe\">\n",
       "  <thead>\n",
       "    <tr style=\"text-align: right;\">\n",
       "      <th></th>\n",
       "      <th>Country</th>\n",
       "      <th>Year</th>\n",
       "      <th>GDP_Per_Capita</th>\n",
       "      <th>Internet_Users_Pct</th>\n",
       "      <th>GDP_group</th>\n",
       "    </tr>\n",
       "  </thead>\n",
       "  <tbody>\n",
       "    <tr>\n",
       "      <th>6</th>\n",
       "      <td>Afghanistan</td>\n",
       "      <td>2014</td>\n",
       "      <td>2102.384604</td>\n",
       "      <td>6.39</td>\n",
       "      <td>Low</td>\n",
       "    </tr>\n",
       "    <tr>\n",
       "      <th>25</th>\n",
       "      <td>Africa Eastern and Southern</td>\n",
       "      <td>2014</td>\n",
       "      <td>3677.319414</td>\n",
       "      <td>NaN</td>\n",
       "      <td>Low</td>\n",
       "    </tr>\n",
       "    <tr>\n",
       "      <th>56</th>\n",
       "      <td>Africa Western and Central</td>\n",
       "      <td>2014</td>\n",
       "      <td>4215.646000</td>\n",
       "      <td>NaN</td>\n",
       "      <td>Low</td>\n",
       "    </tr>\n",
       "    <tr>\n",
       "      <th>87</th>\n",
       "      <td>Albania</td>\n",
       "      <td>2014</td>\n",
       "      <td>11586.833878</td>\n",
       "      <td>60.10</td>\n",
       "      <td>Medium</td>\n",
       "    </tr>\n",
       "    <tr>\n",
       "      <th>118</th>\n",
       "      <td>Algeria</td>\n",
       "      <td>2014</td>\n",
       "      <td>11512.690472</td>\n",
       "      <td>18.09</td>\n",
       "      <td>Medium</td>\n",
       "    </tr>\n",
       "    <tr>\n",
       "      <th>...</th>\n",
       "      <td>...</td>\n",
       "      <td>...</td>\n",
       "      <td>...</td>\n",
       "      <td>...</td>\n",
       "      <td>...</td>\n",
       "    </tr>\n",
       "    <tr>\n",
       "      <th>8147</th>\n",
       "      <td>Turkey</td>\n",
       "      <td>2014</td>\n",
       "      <td>NaN</td>\n",
       "      <td>51.04</td>\n",
       "      <td>NaN</td>\n",
       "    </tr>\n",
       "    <tr>\n",
       "      <th>8170</th>\n",
       "      <td>Venezuela</td>\n",
       "      <td>2014</td>\n",
       "      <td>NaN</td>\n",
       "      <td>57.00</td>\n",
       "      <td>NaN</td>\n",
       "    </tr>\n",
       "    <tr>\n",
       "      <th>8194</th>\n",
       "      <td>Viet Nam</td>\n",
       "      <td>2014</td>\n",
       "      <td>NaN</td>\n",
       "      <td>48.31</td>\n",
       "      <td>NaN</td>\n",
       "    </tr>\n",
       "    <tr>\n",
       "      <th>8214</th>\n",
       "      <td>Virgin Islands (U.S.)</td>\n",
       "      <td>2014</td>\n",
       "      <td>NaN</td>\n",
       "      <td>50.07</td>\n",
       "      <td>NaN</td>\n",
       "    </tr>\n",
       "    <tr>\n",
       "      <th>8236</th>\n",
       "      <td>Yemen</td>\n",
       "      <td>2014</td>\n",
       "      <td>NaN</td>\n",
       "      <td>22.55</td>\n",
       "      <td>NaN</td>\n",
       "    </tr>\n",
       "  </tbody>\n",
       "</table>\n",
       "<p>281 rows × 5 columns</p>\n",
       "</div>"
      ],
      "text/plain": [
       "                          Country  Year  GDP_Per_Capita  Internet_Users_Pct  \\\n",
       "6                     Afghanistan  2014     2102.384604                6.39   \n",
       "25    Africa Eastern and Southern  2014     3677.319414                 NaN   \n",
       "56     Africa Western and Central  2014     4215.646000                 NaN   \n",
       "87                        Albania  2014    11586.833878               60.10   \n",
       "118                       Algeria  2014    11512.690472               18.09   \n",
       "...                           ...   ...             ...                 ...   \n",
       "8147                       Turkey  2014             NaN               51.04   \n",
       "8170                    Venezuela  2014             NaN               57.00   \n",
       "8194                     Viet Nam  2014             NaN               48.31   \n",
       "8214        Virgin Islands (U.S.)  2014             NaN               50.07   \n",
       "8236                        Yemen  2014             NaN               22.55   \n",
       "\n",
       "     GDP_group  \n",
       "6          Low  \n",
       "25         Low  \n",
       "56         Low  \n",
       "87      Medium  \n",
       "118     Medium  \n",
       "...        ...  \n",
       "8147       NaN  \n",
       "8170       NaN  \n",
       "8194       NaN  \n",
       "8214       NaN  \n",
       "8236       NaN  \n",
       "\n",
       "[281 rows x 5 columns]"
      ]
     },
     "execution_count": 69,
     "metadata": {},
     "output_type": "execute_result"
    }
   ],
   "source": [
    "gdp_and_internet_use_2014"
   ]
  },
  {
   "cell_type": "markdown",
   "id": "27d71763",
   "metadata": {},
   "source": [
    "# 25. **Stretch Question:** How does the median internet users percentage compare for the three gdp groups?"
   ]
  },
  {
   "cell_type": "code",
   "execution_count": 90,
   "id": "c7738ea8",
   "metadata": {},
   "outputs": [
    {
     "name": "stdout",
     "output_type": "stream",
     "text": [
      "Low Group\n"
     ]
    },
    {
     "name": "stderr",
     "output_type": "stream",
     "text": [
      "C:\\Users\\hunte\\AppData\\Local\\Temp\\ipykernel_5556\\3321231173.py:2: FutureWarning: The default value of numeric_only in DataFrame.median is deprecated. In a future version, it will default to False. In addition, specifying 'numeric_only=None' is deprecated. Select only valid columns or specify the value of numeric_only to silence this warning.\n",
      "  gdp_and_internet_use_2014.loc[gdp_and_internet_use_2014['GDP_group'] == 'Low'].median()\n"
     ]
    },
    {
     "data": {
      "text/plain": [
       "Year                  2014.0000\n",
       "GDP_Per_Capita        3450.0376\n",
       "Internet_Users_Pct      10.6000\n",
       "dtype: float64"
      ]
     },
     "execution_count": 90,
     "metadata": {},
     "output_type": "execute_result"
    }
   ],
   "source": [
    "print('Low Group')\n",
    "gdp_and_internet_use_2014.loc[gdp_and_internet_use_2014['GDP_group'] == 'Low'].median()"
   ]
  },
  {
   "cell_type": "code",
   "execution_count": 91,
   "id": "1f1183a2",
   "metadata": {},
   "outputs": [
    {
     "name": "stdout",
     "output_type": "stream",
     "text": [
      "Meidum Group\n"
     ]
    },
    {
     "name": "stderr",
     "output_type": "stream",
     "text": [
      "C:\\Users\\hunte\\AppData\\Local\\Temp\\ipykernel_5556\\1479835285.py:2: FutureWarning: The default value of numeric_only in DataFrame.median is deprecated. In a future version, it will default to False. In addition, specifying 'numeric_only=None' is deprecated. Select only valid columns or specify the value of numeric_only to silence this warning.\n",
      "  gdp_and_internet_use_2014.loc[gdp_and_internet_use_2014['GDP_group'] == 'Medium'].median()\n"
     ]
    },
    {
     "data": {
      "text/plain": [
       "Year                   2014.000000\n",
       "GDP_Per_Capita        12178.874687\n",
       "Internet_Users_Pct       43.000000\n",
       "dtype: float64"
      ]
     },
     "execution_count": 91,
     "metadata": {},
     "output_type": "execute_result"
    }
   ],
   "source": [
    "print('Meidum Group')\n",
    "gdp_and_internet_use_2014.loc[gdp_and_internet_use_2014['GDP_group'] == 'Medium'].median()"
   ]
  },
  {
   "cell_type": "code",
   "execution_count": 72,
   "id": "cef3f885",
   "metadata": {},
   "outputs": [
    {
     "name": "stderr",
     "output_type": "stream",
     "text": [
      "C:\\Users\\hunte\\AppData\\Local\\Temp\\ipykernel_5556\\2442684634.py:1: FutureWarning: The default value of numeric_only in DataFrame.median is deprecated. In a future version, it will default to False. In addition, specifying 'numeric_only=None' is deprecated. Select only valid columns or specify the value of numeric_only to silence this warning.\n",
      "  gdp_and_internet_use_2014.loc[gdp_and_internet_use_2014['GDP_group'] == 'High'].median()\n"
     ]
    },
    {
     "data": {
      "text/plain": [
       "Year                   2014.000000\n",
       "GDP_Per_Capita        37270.075592\n",
       "Internet_Users_Pct       78.740000\n",
       "dtype: float64"
      ]
     },
     "execution_count": 72,
     "metadata": {},
     "output_type": "execute_result"
    }
   ],
   "source": [
    "print('High Group')\n",
    "gdp_and_internet_use_2014.loc[gdp_and_internet_use_2014['GDP_group'] == 'High'].median()"
   ]
  },
  {
   "cell_type": "markdown",
   "id": "3d072413",
   "metadata": {},
   "source": [
    "# Bonus Exercise: Download another data set from the UN data (http://data.un.org/Explorer.aspx) to merge with your data and explore."
   ]
  },
  {
   "cell_type": "code",
   "execution_count": null,
   "id": "354215f5",
   "metadata": {},
   "outputs": [],
   "source": []
  }
 ],
 "metadata": {
  "kernelspec": {
   "display_name": "Python 3 (ipykernel)",
   "language": "python",
   "name": "python3"
  },
  "language_info": {
   "codemirror_mode": {
    "name": "ipython",
    "version": 3
   },
   "file_extension": ".py",
   "mimetype": "text/x-python",
   "name": "python",
   "nbconvert_exporter": "python",
   "pygments_lexer": "ipython3",
   "version": "3.10.9"
  }
 },
 "nbformat": 4,
 "nbformat_minor": 5
}
