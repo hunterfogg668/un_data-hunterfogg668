{
 "cells": [
  {
   "cell_type": "code",
   "execution_count": null,
   "id": "fc67834b",
   "metadata": {},
   "outputs": [],
   "source": [
    "import pandas as pd\n",
    "import matplotlib.pyplot as plt\n",
    "import seaborn as sns\n",
    "%matplotlib inline"
   ]
  },
  {
   "cell_type": "markdown",
   "id": "4b317778",
   "metadata": {},
   "source": [
    "# 4. Using the pandas `read_csv()` method, read the GDP dataset into your notebook as a DataFrame called `gdp_df`. Take a look at the first few and last few rows to familiarize yourself with what is contained in this dataset."
   ]
  },
  {
   "cell_type": "code",
   "execution_count": null,
   "id": "85be10b6",
   "metadata": {},
   "outputs": [],
   "source": [
    "gdp_df = pd.read_csv(\n",
    "    r\"C:\\Users\\hunte\\Documents\\NNS-DDA10\\python\\projects\\un_data-hunterfogg668\\data\\gdp_percapita.csv.csv\")"
   ]
  },
  {
   "cell_type": "code",
   "execution_count": null,
   "id": "342c0333",
   "metadata": {},
   "outputs": [],
   "source": [
    "gdp_df.head()"
   ]
  },
  {
   "cell_type": "markdown",
   "id": "798f1b58",
   "metadata": {},
   "source": [
    "# 5. How many rows and columns are in `gdp_df`? What are the data types of each column? 7176 rows, 4 columns; float64, float64, int64, object"
   ]
  },
  {
   "cell_type": "code",
   "execution_count": null,
   "id": "bc55a174",
   "metadata": {},
   "outputs": [],
   "source": [
    "gdp_df.shape"
   ]
  },
  {
   "cell_type": "code",
   "execution_count": null,
   "id": "e0f8b2a5",
   "metadata": {},
   "outputs": [],
   "source": [
    "gdp_df.dtypes\n"
   ]
  },
  {
   "cell_type": "markdown",
   "id": "9e99abe7",
   "metadata": {},
   "source": [
    "# 6. Drop the `Value Footnotes` column and rename the remaining three to 'Country', 'Year', and 'GDP_Per_Capita'. "
   ]
  },
  {
   "cell_type": "code",
   "execution_count": null,
   "id": "eec42ed6",
   "metadata": {},
   "outputs": [],
   "source": [
    "gdp_df_2 = gdp_df.drop(columns = ['Value Footnotes'])\n",
    "gdp_df_2 = gdp_df_2.rename(columns = {'Country or Area' : 'Country', 'Year' : 'Year', 'Value' : 'GDP_Per_Capita'})\n",
    "gdp_df_2"
   ]
  },
  {
   "cell_type": "markdown",
   "id": "e899f20c",
   "metadata": {},
   "source": [
    "# 7. How many countries have data for all years? Which countries are missing many years of data? Look at the number of observations per year. What do you notice?"
   ]
  },
  {
   "cell_type": "markdown",
   "id": "547c7f9c",
   "metadata": {},
   "source": [
    "#find data with 31 observations"
   ]
  },
  {
   "cell_type": "code",
   "execution_count": null,
   "id": "93d818ee",
   "metadata": {},
   "outputs": [],
   "source": [
    "new_gdp = gdp_df_2.Country.value_counts().to_frame().reset_index()\n",
    "new_gdp.loc[new_gdp.Country == 31]"
   ]
  },
  {
   "cell_type": "code",
   "execution_count": null,
   "id": "1507e0c6",
   "metadata": {},
   "outputs": [],
   "source": [
    "new_gdp.loc[new_gdp.Country != 31].shape"
   ]
  },
  {
   "cell_type": "code",
   "execution_count": null,
   "id": "4527ca35",
   "metadata": {},
   "outputs": [],
   "source": [
    "year_gdp = gdp_df_2.Year.value_counts()\n",
    "year_gdp"
   ]
  },
  {
   "cell_type": "markdown",
   "id": "0c05c3b9",
   "metadata": {},
   "source": [
    "# 8. In this question, you're going to create some plots to show the distribution of GDP per capita for the year 2020. Go to the Python Graph Gallery (https://www.python-graph-gallery.com/) and look at the different types of plots under the Distribution section. Create a histogram, a density plot, a boxplot, and a violin plot. What do you notice when you look at these plots? How do the plots compare and what information can you get out of one type that you can't necessarily get out of the others?"
   ]
  },
  {
   "cell_type": "markdown",
   "id": "63bd1f79",
   "metadata": {},
   "source": [
    "#Different Visualizations"
   ]
  },
  {
   "cell_type": "code",
   "execution_count": null,
   "id": "9af01630",
   "metadata": {},
   "outputs": [],
   "source": [
    "sns.distplot(a=gdp_df_2['GDP_Per_Capita'])"
   ]
  },
  {
   "cell_type": "code",
   "execution_count": null,
   "id": "ae74c2a3",
   "metadata": {},
   "outputs": [],
   "source": [
    "sns.kdeplot(gdp_df_2['GDP_Per_Capita'])"
   ]
  },
  {
   "cell_type": "code",
   "execution_count": null,
   "id": "696ca005",
   "metadata": {},
   "outputs": [],
   "source": [
    "sns.boxplot(x = gdp_df_2['Year'], y = gdp_df_2['GDP_Per_Capita'])"
   ]
  },
  {
   "cell_type": "code",
   "execution_count": null,
   "id": "e2d6f757",
   "metadata": {},
   "outputs": [],
   "source": [
    "sns.violinplot(x = gdp_df_2['Year'], y = gdp_df_2['GDP_Per_Capita'])"
   ]
  },
  {
   "cell_type": "markdown",
   "id": "b4a1ce63",
   "metadata": {},
   "source": [
    "# 9. What was the median GDP per capita value in 2020?"
   ]
  },
  {
   "cell_type": "markdown",
   "id": "ec7fba25",
   "metadata": {},
   "source": [
    "#Defining gdp_2020"
   ]
  },
  {
   "cell_type": "code",
   "execution_count": null,
   "id": "9d8a4994",
   "metadata": {},
   "outputs": [],
   "source": [
    "gdp_2020 = gdp_df_2.loc[gdp_df_2['Year'] == 2020]\n",
    "gdp_2020"
   ]
  },
  {
   "cell_type": "markdown",
   "id": "536972b5",
   "metadata": {},
   "source": [
    "#Describe to show median"
   ]
  },
  {
   "cell_type": "code",
   "execution_count": null,
   "id": "3b2711bd",
   "metadata": {},
   "outputs": [],
   "source": [
    "gdp_2020.describe()"
   ]
  },
  {
   "cell_type": "markdown",
   "id": "82b637ea",
   "metadata": {},
   "source": [
    "# 10. For this question, you're going to create some visualizations to compare GDP per capita values for the years 1990, 2000, 2010, and 2020. Start by subsetting your data to just these 4 years into a new DataFrame named gdp_decades. Using this, create the following 4 plots:\n",
    "\t* A boxplot\n",
    "\t* A barplot (check out the Barplot with Seaborn section: https://www.python-graph-gallery.com/barplot/#Seaborn)\n",
    "\t* A scatterplot\n",
    "\t* A scatterplot with a trend line overlaid (see this regplot example: https://www.python-graph-gallery.com/42-custom-linear-regression-fit-seaborn)"
   ]
  },
  {
   "cell_type": "markdown",
   "id": "25ca2dc8",
   "metadata": {},
   "source": [
    "#Query to define decades"
   ]
  },
  {
   "cell_type": "code",
   "execution_count": null,
   "id": "a6e6706b",
   "metadata": {},
   "outputs": [],
   "source": [
    "years = [1990, 2000, 2010, 2020]"
   ]
  },
  {
   "cell_type": "code",
   "execution_count": null,
   "id": "ffaf2c6e",
   "metadata": {},
   "outputs": [],
   "source": [
    "gdp_decades = gdp_df_2.query('Year in @years')\n",
    "gdp_decades"
   ]
  },
  {
   "cell_type": "markdown",
   "id": "ee15ef72",
   "metadata": {},
   "source": [
    "#Boxplot for Decades"
   ]
  },
  {
   "cell_type": "code",
   "execution_count": null,
   "id": "d044e7bf",
   "metadata": {},
   "outputs": [],
   "source": [
    "sns.boxplot(x = gdp_decades['Year'], y = gdp_decades['GDP_Per_Capita'])"
   ]
  },
  {
   "cell_type": "markdown",
   "id": "012a59cc",
   "metadata": {},
   "source": [
    "#Barplot for decades"
   ]
  },
  {
   "cell_type": "code",
   "execution_count": null,
   "id": "d908d1c4",
   "metadata": {},
   "outputs": [],
   "source": [
    "sns.barplot(x = 'Year', y = 'GDP_Per_Capita',\n",
    "            data = gdp_decades, ci = None)"
   ]
  },
  {
   "cell_type": "markdown",
   "id": "ce381baf",
   "metadata": {},
   "source": [
    "#Scatterplot for decades"
   ]
  },
  {
   "cell_type": "code",
   "execution_count": null,
   "id": "e877669f",
   "metadata": {},
   "outputs": [],
   "source": [
    "sns.regplot(x = gdp_decades['Year'], y = gdp_decades['GDP_Per_Capita'])"
   ]
  },
  {
   "cell_type": "markdown",
   "id": "bf35a828",
   "metadata": {},
   "source": [
    "# 11. Which country was the first to have a GDP per capita greater than 100,000?"
   ]
  },
  {
   "cell_type": "markdown",
   "id": "a7a148b6",
   "metadata": {},
   "source": [
    "#find first country with 100k gdp.\n",
    "#create df for 1990 and .loc to find gdp over 100k"
   ]
  },
  {
   "cell_type": "code",
   "execution_count": null,
   "id": "fe1f773f",
   "metadata": {},
   "outputs": [],
   "source": [
    "gdp_1990 = gdp_df_2.loc[gdp_df_2['Year'] == 1990]\n",
    "gdp_1990_100k = gdp_1990.loc[gdp_1990['GDP_Per_Capita'] > 100000]\n",
    "gdp_1990_100k"
   ]
  },
  {
   "cell_type": "markdown",
   "id": "a5c6af56",
   "metadata": {},
   "source": [
    "# 12. Which country had the highest GDP per capita in 2020? Create a plot showing how this country's GDP per capita has changed over the timespan of the dataset."
   ]
  },
  {
   "cell_type": "markdown",
   "id": "f3791b14",
   "metadata": {},
   "source": [
    "#create a sorted dataframe to find the top GDP per capita in 2020"
   ]
  },
  {
   "cell_type": "code",
   "execution_count": null,
   "id": "dfef9a32",
   "metadata": {},
   "outputs": [],
   "source": [
    "gdp_2020_sorted = gdp_2020.sort_values(by = 'GDP_Per_Capita', ascending = False)\n",
    "gdp_2020_sorted.head(1)"
   ]
  },
  {
   "cell_type": "code",
   "execution_count": null,
   "id": "a132bc1b",
   "metadata": {},
   "outputs": [],
   "source": [
    "lux_gdp = gdp_df_2.loc[gdp_df_2['Country'] == 'Luxembourg']\n",
    "sns.regplot(x = lux_gdp['Year'], y = lux_gdp['GDP_Per_Capita'])"
   ]
  },
  {
   "cell_type": "markdown",
   "id": "8b8d7ef4",
   "metadata": {},
   "source": [
    "# 13. Which country had the lowest GDP per capita in 2020? Create a plot showing how this country's GDP per capita has changed over the timespan of the dataset. "
   ]
  },
  {
   "cell_type": "markdown",
   "id": "ef81cf39",
   "metadata": {},
   "source": [
    "#resort it to find lowest GDP for 2020"
   ]
  },
  {
   "cell_type": "code",
   "execution_count": null,
   "id": "bf2412ff",
   "metadata": {},
   "outputs": [],
   "source": [
    "gdp_2020_sorted = gdp_2020.sort_values(by = 'GDP_Per_Capita', ascending = True)\n",
    "gdp_2020_sorted.head(1)"
   ]
  },
  {
   "cell_type": "code",
   "execution_count": null,
   "id": "13a155c3",
   "metadata": {},
   "outputs": [],
   "source": [
    "burundi_gdp = gdp_df_2.loc[gdp_df_2['Country'] == 'Burundi']\n",
    "sns.regplot(x = burundi_gdp['Year'], y = burundi_gdp['GDP_Per_Capita'])"
   ]
  },
  {
   "cell_type": "markdown",
   "id": "e8a4ae33",
   "metadata": {},
   "source": [
    "# 13 Bonus question: Is it true in general that coutries had a higher GDP per capita in 2020 than in 1990? Which countries had lower GDP per capita in 2020 than in 1990?"
   ]
  },
  {
   "cell_type": "markdown",
   "id": "fc1b50fa",
   "metadata": {},
   "source": [
    "#join gdp_1990 and gdp_2020"
   ]
  },
  {
   "cell_type": "code",
   "execution_count": null,
   "id": "4ff85306",
   "metadata": {},
   "outputs": [],
   "source": [
    "gdp_1990_2020 = pd.merge(gdp_1990, gdp_2020,\n",
    "                         left_on = 'Country', right_on = 'Country',\n",
    "                         how = 'inner')\n",
    "gdp_1990_2020"
   ]
  },
  {
   "cell_type": "code",
   "execution_count": null,
   "id": "879f5fae",
   "metadata": {},
   "outputs": [],
   "source": [
    "#clean up the joined df"
   ]
  },
  {
   "cell_type": "code",
   "execution_count": null,
   "id": "355b1c20",
   "metadata": {},
   "outputs": [],
   "source": [
    "gdp_1990_2020 = gdp_1990_2020.rename(columns = {'GDP_Per_Capita_x' : 'gdp_percap_1990', \n",
    "                                                'GDP_Per_Capita_y' : 'gdp_percap_2020'})\n",
    "gdp_1990_2020"
   ]
  },
  {
   "cell_type": "markdown",
   "id": "5a40a0c5",
   "metadata": {},
   "source": [
    "#Drop year columns"
   ]
  },
  {
   "cell_type": "code",
   "execution_count": null,
   "id": "3848e901",
   "metadata": {},
   "outputs": [],
   "source": [
    "gdp_1990_2020 = gdp_1990_2020.drop(columns = ['Year_x', 'Year_y'])\n",
    "gdp_1990_2020"
   ]
  },
  {
   "cell_type": "markdown",
   "id": "5566ea29",
   "metadata": {},
   "source": [
    "#.loc statement to find countries with "
   ]
  },
  {
   "cell_type": "code",
   "execution_count": null,
   "id": "070a2242",
   "metadata": {},
   "outputs": [],
   "source": [
    "decrease_gdp = gdp_1990_2020.loc[gdp_1990_2020['gdp_percap_1990'] > gdp_1990_2020['gdp_percap_2020']]\n",
    "decrease_gdp"
   ]
  },
  {
   "cell_type": "code",
   "execution_count": null,
   "id": "7af98300",
   "metadata": {},
   "outputs": [],
   "source": [
    "decrease_gdp.shape"
   ]
  },
  {
   "cell_type": "markdown",
   "id": "d0414e6e",
   "metadata": {},
   "source": [
    "# 14. Read in the internet use dataset into a DataFrame named `internet_df`. You will likely get errors when doing this. Check the arguments for the read_csv function to find ones that can help correct the errors (https://pandas.pydata.org/docs/reference/api/pandas.read_csv.html) Once you are able to read it in, take per a look at the top and bottom few rows to make sure that it has been read in correctly. Also, check the datatypes of the columns."
   ]
  },
  {
   "cell_type": "markdown",
   "id": "25a356aa",
   "metadata": {},
   "source": [
    "#importing internet_df file"
   ]
  },
  {
   "cell_type": "code",
   "execution_count": null,
   "id": "21a63848",
   "metadata": {},
   "outputs": [],
   "source": [
    "internet_df = pd.read_csv(\n",
    "    r\"C:\\Users\\hunte\\Documents\\NNS-DDA10\\python\\projects\\un_data-hunterfogg668\\data\\internet_use.csv.csv\",\n",
    "     nrows = 4495)"
   ]
  },
  {
   "cell_type": "code",
   "execution_count": null,
   "id": "17ffa1ec",
   "metadata": {},
   "outputs": [],
   "source": [
    "internet_df.tail()"
   ]
  },
  {
   "cell_type": "markdown",
   "id": "91cac3d1",
   "metadata": {},
   "source": [
    "# 15. Drop the `Value Footnotes` column and rename the remaining three to 'Country', 'Year', and 'Internet_Users_Pct'."
   ]
  },
  {
   "cell_type": "code",
   "execution_count": null,
   "id": "e60d34e5",
   "metadata": {},
   "outputs": [],
   "source": [
    "internet_df = internet_df.drop(columns = ['Value Footnotes'])"
   ]
  },
  {
   "cell_type": "code",
   "execution_count": null,
   "id": "e4adc179",
   "metadata": {},
   "outputs": [],
   "source": [
    "internet_df.head()"
   ]
  },
  {
   "cell_type": "code",
   "execution_count": null,
   "id": "f349058d",
   "metadata": {},
   "outputs": [],
   "source": [
    "internet_df = internet_df.rename(columns = {'Country or Area' : 'Country',\n",
    "                                            'Year' : 'Year',\n",
    "                                            'Value' : 'Internet_Users_Pct'})"
   ]
  },
  {
   "cell_type": "code",
   "execution_count": null,
   "id": "206b03a3",
   "metadata": {},
   "outputs": [],
   "source": [
    "internet_df.head()"
   ]
  },
  {
   "cell_type": "markdown",
   "id": "c00c331c",
   "metadata": {},
   "source": [
    "# 16. Look at the number of observations in this dataset per year. What do you notice?"
   ]
  },
  {
   "cell_type": "code",
   "execution_count": null,
   "id": "f5386fee",
   "metadata": {},
   "outputs": [],
   "source": [
    "year_internet = internet_df.Year.value_counts()"
   ]
  },
  {
   "cell_type": "code",
   "execution_count": null,
   "id": "469a63a5",
   "metadata": {},
   "outputs": [],
   "source": [
    "year_internet = year_internet.to_frame()"
   ]
  },
  {
   "cell_type": "markdown",
   "id": "0824088b",
   "metadata": {},
   "source": [
    "# Convert year_internet to dataframe"
   ]
  },
  {
   "cell_type": "code",
   "execution_count": null,
   "id": "8e712531",
   "metadata": {},
   "outputs": [],
   "source": [
    "year_internet = year_internet.reset_index()\n",
    "year_internet.head()"
   ]
  },
  {
   "cell_type": "code",
   "execution_count": null,
   "id": "a0cd5ce7",
   "metadata": {},
   "outputs": [],
   "source": [
    "year_internet = year_internet.rename(columns = {'index' : 'Year', 'Year' : 'Observations'})\n",
    "year_internet.head()"
   ]
  },
  {
   "cell_type": "markdown",
   "id": "9463e5d8",
   "metadata": {},
   "source": [
    "# reset and sort"
   ]
  },
  {
   "cell_type": "code",
   "execution_count": null,
   "id": "a8ec36a1",
   "metadata": {},
   "outputs": [],
   "source": [
    "year_internet.sort_values(by = ['Year'], ascending = False)"
   ]
  },
  {
   "cell_type": "markdown",
   "id": "8b37edd9",
   "metadata": {},
   "source": [
    "#observations trail off before 1995 but spike at 1990"
   ]
  },
  {
   "cell_type": "markdown",
   "id": "4431241d",
   "metadata": {},
   "source": [
    "# 17. What is the first year to have a non-zero internet users percentage value? 1990"
   ]
  },
  {
   "cell_type": "code",
   "execution_count": null,
   "id": "15052964",
   "metadata": {},
   "outputs": [],
   "source": [
    "internet_df.head()"
   ]
  },
  {
   "cell_type": "code",
   "execution_count": null,
   "id": "e66b55a5",
   "metadata": {},
   "outputs": [],
   "source": [
    "internet_df.sort_values(by = 'Year').loc[internet_df['Internet_Users_Pct'] != 0]"
   ]
  },
  {
   "cell_type": "markdown",
   "id": "b54cc7b9",
   "metadata": {},
   "source": [
    "# 18. How does the distribution of internet users percent differ for 2000 and 2014?"
   ]
  },
  {
   "cell_type": "code",
   "execution_count": null,
   "id": "91ef8663",
   "metadata": {},
   "outputs": [],
   "source": [
    "internet_2000 = internet_df.loc[internet_df['Year'] == 2000]"
   ]
  },
  {
   "cell_type": "code",
   "execution_count": null,
   "id": "6acf756a",
   "metadata": {},
   "outputs": [],
   "source": [
    "internet_2014 = internet_df.loc[internet_df['Year'] == 2014]"
   ]
  },
  {
   "cell_type": "code",
   "execution_count": null,
   "id": "561004a5",
   "metadata": {},
   "outputs": [],
   "source": [
    "internet_comp = pd.merge(internet_2000, internet_2014,\n",
    "                        left_on = 'Country', right_on = 'Country',\n",
    "                        how = 'inner')"
   ]
  },
  {
   "cell_type": "markdown",
   "id": "4163eed1",
   "metadata": {},
   "source": [
    "# rename columns appropriates"
   ]
  },
  {
   "cell_type": "code",
   "execution_count": null,
   "id": "d9647577",
   "metadata": {},
   "outputs": [],
   "source": [
    "internet_comp = internet_comp.rename(columns = {'Internet_Users_Pct_x' : 'int_user_pct_2000',\n",
    "                                               'Internet_Users_Pct_y' : 'int_user_pct_2014'})"
   ]
  },
  {
   "cell_type": "markdown",
   "id": "cf6b0e09",
   "metadata": {},
   "source": [
    "# drop year columns"
   ]
  },
  {
   "cell_type": "code",
   "execution_count": null,
   "id": "ae8ca088",
   "metadata": {},
   "outputs": [],
   "source": [
    "internet_comp = internet_comp.drop(columns = {'Year_x', 'Year_y'})"
   ]
  },
  {
   "cell_type": "code",
   "execution_count": null,
   "id": "63404481",
   "metadata": {},
   "outputs": [],
   "source": [
    "internet_comp"
   ]
  },
  {
   "cell_type": "code",
   "execution_count": null,
   "id": "c773a80c",
   "metadata": {},
   "outputs": [],
   "source": [
    "internet_comp.describe()"
   ]
  },
  {
   "cell_type": "code",
   "execution_count": null,
   "id": "6e848c77",
   "metadata": {},
   "outputs": [],
   "source": [
    "internet_comp.nlargest(3, 'int_user_pct_2014')"
   ]
  },
  {
   "cell_type": "code",
   "execution_count": null,
   "id": "a5f1873e",
   "metadata": {},
   "outputs": [],
   "source": [
    "internet_comp.nsmallest(3, 'int_user_pct_2000')"
   ]
  },
  {
   "cell_type": "markdown",
   "id": "76f418e1",
   "metadata": {},
   "source": [
    "# 19. For how many countries was the percentage of internet users below 5% in 2014? Answer: 16"
   ]
  },
  {
   "cell_type": "code",
   "execution_count": null,
   "id": "c351ec73",
   "metadata": {},
   "outputs": [],
   "source": [
    "internet_2014.loc[internet_2014['Internet_Users_Pct'] < 5].shape"
   ]
  },
  {
   "cell_type": "markdown",
   "id": "4ddca434",
   "metadata": {},
   "source": [
    "# 20. Merge the two DataFrames to one. Do this in a way that keeps **all rows** from each of the two DataFrames. Call the new DataFrame `gdp_and_internet_use`. Look at the first and last few rows to confirm that it merged correctly."
   ]
  },
  {
   "cell_type": "code",
   "execution_count": null,
   "id": "08c0f633",
   "metadata": {},
   "outputs": [],
   "source": [
    "%who"
   ]
  },
  {
   "cell_type": "code",
   "execution_count": null,
   "id": "ca160467",
   "metadata": {},
   "outputs": [],
   "source": []
  },
  {
   "cell_type": "code",
   "execution_count": null,
   "id": "8c92e6e4",
   "metadata": {},
   "outputs": [],
   "source": [
    "gdp_df_2.head()"
   ]
  },
  {
   "cell_type": "code",
   "execution_count": null,
   "id": "c049767b",
   "metadata": {},
   "outputs": [],
   "source": [
    "internet_df.head()"
   ]
  },
  {
   "cell_type": "code",
   "execution_count": null,
   "id": "90f2ae43",
   "metadata": {},
   "outputs": [],
   "source": [
    "gdp_and_internet_use =  pd.merge(gdp_df_2, internet_df,\n",
    "                            left_on = ['Year','Country'], right_on = ['Year','Country'],\n",
    "                            how = 'outer')\n",
    "gdp_and_internet_use"
   ]
  },
  {
   "cell_type": "markdown",
   "id": "abf7fc01",
   "metadata": {},
   "source": [
    "# 21. Find the three countries with the highest internet users percentage in 2014. Use a seaborn FacetGrid (https://seaborn.pydata.org/generated/seaborn.FacetGrid.html) to compare how the GDP per capita has changed over time for these three countries. What do you notice?"
   ]
  },
  {
   "cell_type": "code",
   "execution_count": null,
   "id": "62c0fd18",
   "metadata": {},
   "outputs": [],
   "source": [
    "gdp_and_internet_use_2014 = gdp_and_internet_use.loc[gdp_and_internet_use['Year'] == 2014]"
   ]
  },
  {
   "cell_type": "code",
   "execution_count": null,
   "id": "3717fc06",
   "metadata": {},
   "outputs": [],
   "source": [
    "gdp_and_internet_use_2014.nlargest(3, 'Internet_Users_Pct')"
   ]
  },
  {
   "cell_type": "code",
   "execution_count": null,
   "id": "40342eba",
   "metadata": {},
   "outputs": [],
   "source": [
    "top3_int_use_2014 = gdp_and_internet_use.loc[(gdp_and_internet_use['Country'] == 'Iceland') | \n",
    "                                             (gdp_and_internet_use['Country'] == 'Bermuda') |\n",
    "                                             (gdp_and_internet_use['Country'] == 'Norway')]\n",
    "top3_int_use_2014"
   ]
  },
  {
   "cell_type": "code",
   "execution_count": null,
   "id": "83921d1d",
   "metadata": {},
   "outputs": [],
   "source": [
    "sns.FacetGrid(top3_int_use_2014)"
   ]
  },
  {
   "cell_type": "code",
   "execution_count": null,
   "id": "05d65e39",
   "metadata": {},
   "outputs": [],
   "source": [
    "sns.FacetGrid(top3_int_use_2014, col = 'Country')"
   ]
  },
  {
   "cell_type": "code",
   "execution_count": null,
   "id": "c5227e99",
   "metadata": {},
   "outputs": [],
   "source": [
    "chart = sns.FacetGrid(top3_int_use_2014, col = 'Country')\n",
    "chart.map(sns.scatterplot, 'Year', 'GDP_Per_Capita')"
   ]
  },
  {
   "cell_type": "markdown",
   "id": "0392de06",
   "metadata": {},
   "source": [
    "# 22. Subset `gdp_and_internet_use` to just the year 2014. Save this as a new dataframe named `gdp_and_internet_use_2014`."
   ]
  },
  {
   "cell_type": "markdown",
   "id": "94d5cc2a",
   "metadata": {},
   "source": [
    "# This was done in a previous question"
   ]
  },
  {
   "cell_type": "code",
   "execution_count": null,
   "id": "937d1c34",
   "metadata": {},
   "outputs": [],
   "source": [
    "gdp_and_internet_use_2014"
   ]
  },
  {
   "cell_type": "markdown",
   "id": "697cd638",
   "metadata": {},
   "source": [
    "# 23. Create a plot which compares Internet Users Percentage and GDP per Capita for the year 2014. What do you notice from this plot? If you see any unusual points, investigate them."
   ]
  },
  {
   "cell_type": "code",
   "execution_count": null,
   "id": "00f8eb3d",
   "metadata": {},
   "outputs": [],
   "source": [
    "sns.regplot(x=gdp_and_internet_use_2014[\"Internet_Users_Pct\"],\n",
    "            y=gdp_and_internet_use_2014[\"GDP_Per_Capita\"])"
   ]
  },
  {
   "cell_type": "code",
   "execution_count": null,
   "id": "86b6f88a",
   "metadata": {},
   "outputs": [],
   "source": [
    "gdp_and_internet_use_2014.loc[gdp_and_internet_use_2014['GDP_Per_Capita'] > 80000]"
   ]
  },
  {
   "cell_type": "markdown",
   "id": "60a25c42",
   "metadata": {},
   "source": [
    "# 24. **Stretch Question:** Use the `qcut` function from pandas (https://pandas.pydata.org/docs/reference/api/pandas.qcut.html) to divide countries in `gdp_per_capita_2014` into three groups based on their GDP per capita values. Label these groups as \"Low\", \"Medium\", and \"High\". Put these labels in a new column, named \"GDP_group\"."
   ]
  },
  {
   "cell_type": "code",
   "execution_count": null,
   "id": "6e33de0e",
   "metadata": {},
   "outputs": [],
   "source": [
    "gdp_and_internet_use_2014['GDP_group'] = pd.qcut(gdp_and_internet_use_2014['GDP_Per_Capita'], 3, \n",
    "                                            labels = ('Low', 'Medium', 'High'))"
   ]
  },
  {
   "cell_type": "code",
   "execution_count": null,
   "id": "f258398d",
   "metadata": {},
   "outputs": [],
   "source": [
    "gdp_and_internet_use_2014"
   ]
  },
  {
   "cell_type": "markdown",
   "id": "27d71763",
   "metadata": {},
   "source": [
    "# 25. **Stretch Question:** How does the median internet users percentage compare for the three gdp groups?"
   ]
  },
  {
   "cell_type": "code",
   "execution_count": null,
   "id": "c7738ea8",
   "metadata": {},
   "outputs": [],
   "source": [
    "gdp_and_internet_use_2014.loc[gdp_and_internet_use_2014['GDP_group'] == 'Low'].median()"
   ]
  },
  {
   "cell_type": "code",
   "execution_count": null,
   "id": "1f1183a2",
   "metadata": {},
   "outputs": [],
   "source": [
    "gdp_and_internet_use_2014.loc[gdp_and_internet_use_2014['GDP_group'] == 'Medium'].median()"
   ]
  },
  {
   "cell_type": "code",
   "execution_count": null,
   "id": "cef3f885",
   "metadata": {},
   "outputs": [],
   "source": [
    "gdp_and_internet_use_2014.loc[gdp_and_internet_use_2014['GDP_group'] == 'High'].median()"
   ]
  },
  {
   "cell_type": "markdown",
   "id": "3d072413",
   "metadata": {},
   "source": [
    "# Bonus Exercise: Download another data set from the UN data (http://data.un.org/Explorer.aspx) to merge with your data and explore."
   ]
  },
  {
   "cell_type": "code",
   "execution_count": null,
   "id": "354215f5",
   "metadata": {},
   "outputs": [],
   "source": []
  }
 ],
 "metadata": {
  "kernelspec": {
   "display_name": "Python 3 (ipykernel)",
   "language": "python",
   "name": "python3"
  },
  "language_info": {
   "codemirror_mode": {
    "name": "ipython",
    "version": 3
   },
   "file_extension": ".py",
   "mimetype": "text/x-python",
   "name": "python",
   "nbconvert_exporter": "python",
   "pygments_lexer": "ipython3",
   "version": "3.10.9"
  }
 },
 "nbformat": 4,
 "nbformat_minor": 5
}
